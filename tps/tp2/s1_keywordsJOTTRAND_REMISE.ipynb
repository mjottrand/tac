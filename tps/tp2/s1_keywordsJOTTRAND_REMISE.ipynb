{
 "cells": [
  {
   "cell_type": "markdown",
   "metadata": {},
   "source": [
    "# Extraction de Keywords"
   ]
  },
  {
   "cell_type": "markdown",
   "metadata": {},
   "source": [
    "## Imports"
   ]
  },
  {
   "cell_type": "code",
   "execution_count": 1,
   "metadata": {},
   "outputs": [],
   "source": [
    "import os\n",
    "import yake"
   ]
  },
  {
   "cell_type": "markdown",
   "metadata": {},
   "source": [
    "## Extraire les mots clés d'un document avec Yake"
   ]
  },
  {
   "cell_type": "markdown",
   "metadata": {},
   "source": [
    "https://github.com/LIAAD/yake"
   ]
  },
  {
   "cell_type": "code",
   "execution_count": 2,
   "metadata": {},
   "outputs": [
    {
     "data": {
      "text/plain": [
       "<yake.core.yake.KeywordExtractor at 0x1888be33950>"
      ]
     },
     "execution_count": 2,
     "metadata": {},
     "output_type": "execute_result"
    }
   ],
   "source": [
    "# Instantier l'extracteur de mots clés\n",
    "kw_extractor = yake.KeywordExtractor(lan=\"fr\", top=50)\n",
    "kw_extractor"
   ]
  },
  {
   "cell_type": "code",
   "execution_count": 8,
   "metadata": {},
   "outputs": [],
   "source": [
    "# Lister les Fichiers\n",
    "data_path = \"../../data/txt/\"\n",
    "files = [f for f in os.listdir(data_path) if f.endswith('.txt')]"
   ]
  },
  {
   "cell_type": "code",
   "execution_count": 9,
   "metadata": {},
   "outputs": [
    {
     "data": {
      "text/plain": [
       "7936"
      ]
     },
     "execution_count": 9,
     "metadata": {},
     "output_type": "execute_result"
    }
   ],
   "source": [
    "# Imprimer le nombre de fichiers identifiés\n",
    "len(files)"
   ]
  },
  {
   "cell_type": "code",
   "execution_count": 10,
   "metadata": {},
   "outputs": [
    {
     "data": {
      "text/plain": [
       "['KB_JB838_1887-12-22_01-00001.txt',\n",
       " 'KB_JB838_1887-12-22_01-00002.txt',\n",
       " 'KB_JB838_1887-12-22_01-00003.txt',\n",
       " 'KB_JB838_1887-12-22_01-00004.txt',\n",
       " 'KB_JB838_1887-12-22_01-00005.txt',\n",
       " 'KB_JB838_1887-12-22_01-00006.txt',\n",
       " 'KB_JB838_1887-12-23_01-00001.txt',\n",
       " 'KB_JB838_1887-12-23_01-00002.txt',\n",
       " 'KB_JB838_1887-12-24_01-00001.txt',\n",
       " 'KB_JB838_1887-12-24_01-00002.txt']"
      ]
     },
     "execution_count": 10,
     "metadata": {},
     "output_type": "execute_result"
    }
   ],
   "source": [
    "# Les dix premiers fichiers\n",
    "files[:10]"
   ]
  },
  {
   "cell_type": "code",
   "execution_count": 11,
   "metadata": {},
   "outputs": [
    {
     "data": {
      "text/plain": [
       "'KB_JB838_1887-12-22_01-00001.txt'"
      ]
     },
     "execution_count": 11,
     "metadata": {},
     "output_type": "execute_result"
    }
   ],
   "source": [
    "# Choisir un fichier\n",
    "this_file = files[0]\n",
    "this_file"
   ]
  },
  {
   "cell_type": "code",
   "execution_count": 12,
   "metadata": {},
   "outputs": [
    {
     "data": {
      "text/plain": [
       "'ræge quotidien J00 EXEMPLAIRES distribués gratuitement ■ k . ‘ dans ilàgg;lomération bruxelloise et.en province. ï personnes habitant aux étages fenile journal contre 60 c“« par mois. fSpir est expédié en proyinôe contre t*»\"par mois, payables par trimestre. annonces, faits divers et réclames sjont reçu frie d’Isabelle ; à l’AGENCE ROSSFJl. 44. -v , et do l’Enseignement, à BraxelL annonces remises avant midi sont ; -a ;\\'% >1 v»^.:Vv* *\\'• hv/f ■- v 1 v ; \\' y > fif \\'ji l\\'H-et. Jeudi 22 Décembre i8'"
      ]
     },
     "execution_count": 12,
     "metadata": {},
     "output_type": "execute_result"
    }
   ],
   "source": [
    "# Récupérer le texte du fichier\n",
    "text = open(os.path.join(data_path, this_file), 'r', encoding='utf-8').read()\n",
    "text[:500]"
   ]
  },
  {
   "cell_type": "code",
   "execution_count": 13,
   "metadata": {},
   "outputs": [
    {
     "data": {
      "text/plain": [
       "[('EXEMPLAIRES distribués gratuitement', 0.0017848580261551092),\n",
       " ('lomération bruxelloise et.en', 0.005155299816540558),\n",
       " ('EXEMPLAIRES distribués', 0.01032598116126104),\n",
       " ('bruxelloise et.en province', 0.0217728194968606),\n",
       " ('assassins politiques', 0.025372781929452606),\n",
       " ('distribués gratuitement', 0.02901112747485758),\n",
       " ('lomération bruxelloise', 0.02901112747485758),\n",
       " ('bruxelloise et.en', 0.029422999711739103),\n",
       " ('QUOTIDIEN GRATUIT Température', 0.030648777502273662),\n",
       " ('qu’il', 0.03653509748641892),\n",
       " ('ASSASSINS', 0.04361721127037355),\n",
       " ('Température Baromètre Humidité', 0.04454901112965941),\n",
       " ('midi Température Baromètre', 0.045927628989632464),\n",
       " ('ræge quotidien', 0.04655000901040904),\n",
       " ('commis', 0.048058141007095885),\n",
       " ('fut', 0.04882392397365301),\n",
       " ('chemin de fer', 0.050194801488827295),\n",
       " ('Louvel', 0.053759999074197734),\n",
       " ('d’une', 0.05450795849251973),\n",
       " ('uno', 0.05452583448200533),\n",
       " ('chemin', 0.05671202509167882),\n",
       " ('fer', 0.058028910575572766),\n",
       " ('société', 0.058078927524250014),\n",
       " ('heures', 0.06036055270043405),\n",
       " ('EXEMPLAIRES', 0.06045375295405591),\n",
       " ('BRUXELLES', 0.0631757910395919),\n",
       " ('travail', 0.06677791183530812),\n",
       " ('politiques', 0.07041544451832259),\n",
       " ('midi', 0.07178224097813798),\n",
       " ('Décembre', 0.07190750597999457),\n",
       " ('jour', 0.07770046095862936),\n",
       " ('ligne', 0.07895680838156742),\n",
       " ('grand', 0.08524689838955626),\n",
       " ('point', 0.0854454893320521),\n",
       " ('d’un', 0.08590493659764754),\n",
       " ('SIÈCLE', 0.08642054582643506),\n",
       " ('GRATUIT Température maximum', 0.08644026197037143),\n",
       " ('ans', 0.08677156289016351),\n",
       " ('commis au chemin', 0.08702378888054658),\n",
       " ('Jeudi', 0.08748169873313137),\n",
       " ('Morey et Pépin', 0.08788098813597583),\n",
       " ('capitaine', 0.08811629535825924),\n",
       " ('annonces', 0.0917124986670345),\n",
       " ('timbre', 0.09188506963089502),\n",
       " ('homme', 0.09422634093974369),\n",
       " ('QUOTIDIEN GRATUIT', 0.09848701432311693),\n",
       " ('GRATUIT Température', 0.10056496590851494),\n",
       " ('facteur rural', 0.10065021437485533),\n",
       " ('mort', 0.10162870130788097),\n",
       " ('Température Baromètre', 0.1059845847757555)]"
      ]
     },
     "execution_count": 13,
     "metadata": {},
     "output_type": "execute_result"
    }
   ],
   "source": [
    "# Extraire les mots clés de ce texte\n",
    "keywords = kw_extractor.extract_keywords(text)\n",
    "keywords"
   ]
  },
  {
   "cell_type": "code",
   "execution_count": 14,
   "metadata": {},
   "outputs": [
    {
     "data": {
      "text/plain": [
       "['EXEMPLAIRES distribués',\n",
       " 'assassins politiques',\n",
       " 'distribués gratuitement',\n",
       " 'lomération bruxelloise',\n",
       " 'bruxelloise et.en',\n",
       " 'ræge quotidien',\n",
       " 'QUOTIDIEN GRATUIT',\n",
       " 'GRATUIT Température',\n",
       " 'facteur rural',\n",
       " 'Température Baromètre']"
      ]
     },
     "execution_count": 14,
     "metadata": {},
     "output_type": "execute_result"
    }
   ],
   "source": [
    "# Ne garder que les bigrammes\n",
    "kept = []\n",
    "for kw, score in keywords:\n",
    "    words = kw.split()\n",
    "    if len(words) == 2:\n",
    "        kept.append(kw)\n",
    "kept"
   ]
  },
  {
   "cell_type": "markdown",
   "metadata": {},
   "source": [
    "## Faire la même opération sur tous les documents"
   ]
  },
  {
   "cell_type": "code",
   "execution_count": 15,
   "metadata": {},
   "outputs": [
    {
     "name": "stdout",
     "output_type": "stream",
     "text": [
      "KB_JB838_1887-12-22_01-00001.txt mentions these keywords: EXEMPLAIRES distribués, assassins politiques, distribués gratuitement, lomération bruxelloise, bruxelloise et.en, ræge quotidien, QUOTIDIEN GRATUIT, GRATUIT Température, facteur rural, Température Baromètre...\n",
      "KB_JB838_1887-12-22_01-00002.txt mentions these keywords: Ligue nalio, rester fidèle, Van Ophem...\n",
      "KB_JB838_1887-12-22_01-00003.txt mentions these keywords: prince Guillaume, Finet critique, Pierrot Macabre, HEURE Vienne...\n",
      "KB_JB838_1887-12-22_01-00004.txt mentions these keywords: demande place, fiVS ÉPICERIES, ÉPICERIES t'Tu, lie Cologne, Fille val., place Madou, Bon Marché, rue Scailquin, rue Plantin, sci rue, bon certifie, rue lie, rue Bines, exposition Bruxelles, place sach, Bruxelles Centre, BRUXELLES Rideauœ...\n",
      "KB_JB838_1887-12-22_01-00005.txt mentions these keywords: rue Plantin, OBJETS PERDUS, PERDUS gravure, LOUER DEMANDES, grande rue, rue Blaes, rue Hôtel, prix Bruxelles, rue Goflhrl, wôporler rue, rue St-Micliel...\n",
      "KB_JB838_1887-12-22_01-00006.txt mentions these keywords: RHUM ST-GEORGES, question militaire, Société royale, Société Philharmonique, l’école militaire, rue Haute, Nord BRUXELLES, préparatifs militaires, loi portant...\n",
      "KB_JB838_1887-12-23_01-00001.txt mentions these keywords: matin Température, Température maximum, GRATUIT température, température Irti, heurte matin, OBSERVATOIRE ROYAL, Irti Baromètre, QUOTIDIEN GRATUIT, JOURNAL QUOTIDIEN, rues Royale, Vent dominant, Haute Pinte, Bruxelles d’un, RUE D'ISABELLE, Pinte rue...\n",
      "KB_JB838_1887-12-23_01-00002.txt mentions these keywords: ...\n",
      "KB_JB838_1887-12-24_01-00001.txt mentions these keywords: TIRAGE QUOTIDIEN, nommé président, JOURNAL QUOTIDIEN, c’est qu’il, QUOTIDIEN GRATUIT, ANNÉE Samedi, section artistique, BRUXELLES PRIX...\n",
      "KB_JB838_1887-12-24_01-00002.txt mentions these keywords: capitaine Mac, Mme Lachaud, rue Joseph, police qu’il, jeune homme...\n"
     ]
    }
   ],
   "source": [
    "for f in sorted(files)[:10]:\n",
    "    text = open(os.path.join(data_path, f), 'r', encoding=\"utf-8\").read()\n",
    "    keywords = kw_extractor.extract_keywords(text)\n",
    "    kept = []\n",
    "    for kw, score in keywords:\n",
    "        words = kw.split()\n",
    "        if len(words) == 2:\n",
    "            kept.append(kw)\n",
    "    print(f\"{f} mentions these keywords: {', '.join(kept)}...\")"
   ]
  },
  {
   "cell_type": "markdown",
   "metadata": {},
   "source": []
  },
  {
   "cell_type": "code",
   "execution_count": 17,
   "metadata": {},
   "outputs": [
    {
     "data": {
      "text/plain": [
       "[('DEM', 0.006077108441792023),\n",
       " ('Hôtel', 0.006150998790220248),\n",
       " ('rue', 0.006986498146727471),\n",
       " ('DEMANDE', 0.014016093707011084),\n",
       " ('Kérallan', 0.014701200609664556),\n",
       " ('président', 0.017251166261436135),\n",
       " ('Agence Rossel', 0.018265143862976438),\n",
       " ('Rossel', 0.023225351547832257),\n",
       " ('bon', 0.024256773027979846),\n",
       " ('BRUXELLES', 0.025430208921804382),\n",
       " ('JANVIER', 0.02966395815029336),\n",
       " ('jours', 0.031685233212365195),\n",
       " ('DEMANDE bon', 0.032593290940344154),\n",
       " ('Lot', 0.03739322965495584),\n",
       " ('Hôtel Terminus', 0.03778001569170478),\n",
       " ('Soldé', 0.03809708478078028),\n",
       " ('Terres Rotige', 0.03968329206737943),\n",
       " ('lit', 0.04183870815130623),\n",
       " ('Agence', 0.041879213130503176),\n",
       " ('lundi', 0.04238079922961772),\n",
       " ('bonne', 0.04253253188821074),\n",
       " ('SOIE', 0.04697032229754359),\n",
       " ('mètre', 0.04754664560460624),\n",
       " ('Spécialiste ALBERT DUMONCEAU', 0.047856746114327234),\n",
       " ('Ecrire', 0.04893507155687938),\n",
       " ('baron', 0.05218197515463672),\n",
       " ('dit', 0.05332953704188147),\n",
       " ('maison', 0.05363215104031025),\n",
       " ('Biscuiterie demande dame', 0.054599104432932956),\n",
       " ('Dame', 0.0550455319578111),\n",
       " ('Dame Garniture jours', 0.05584632631971069),\n",
       " ('dimanche', 0.05665162326919042),\n",
       " ('Yvon de Kérallan', 0.05724174104925937),\n",
       " ('Noir', 0.058016368549396825),\n",
       " ('Porhoët', 0.06133153719981461),\n",
       " ('DUMONCEAU', 0.06282824240484707),\n",
       " ('demandé', 0.06368834319150533),\n",
       " ('AVI', 0.06489832471838532),\n",
       " ('RTE', 0.06534246733868564),\n",
       " ('DÉM', 0.06620038767303892),\n",
       " ('draps', 0.06677020138679339),\n",
       " ('station', 0.06717196023598815),\n",
       " ('Ecrire rue Cnm', 0.06922012963838056),\n",
       " ('DEM.', 0.07021196191202662),\n",
       " ('Nord', 0.07134529182766187),\n",
       " ('main', 0.07156832714467838),\n",
       " ('Yvon', 0.07337436952609815),\n",
       " ('bonnes', 0.07443193080436879),\n",
       " ('demande dame', 0.0746183842828173),\n",
       " ('grande', 0.07492887870288702)]"
      ]
     },
     "execution_count": 17,
     "metadata": {},
     "output_type": "execute_result"
    }
   ],
   "source": [
    "# Imports\n",
    "import os\n",
    "import yake\n",
    "\n",
    "# Instantier l'extracteur de mots clés\n",
    "kw_extractor = yake.KeywordExtractor(lan=\"fr\", top=50)\n",
    "kw_extractor\n",
    "\n",
    "# Lister les Fichiers\n",
    "data_path = \"../../data/txt/\"\n",
    "files = [f for f in os.listdir(data_path) if f.endswith('.txt')]\n",
    "\n",
    "# Lister les fichiers d'une année\n",
    "year = 1926\n",
    "files_1926=[f for f in files if str(year) in f]\n",
    "\n",
    "#Choisir un fichier\n",
    "\n",
    "files = files_1926[0]  # Premier fichier de l'année 1889\n",
    "text = open(os.path.join(data_path, files), 'r', encoding='utf-8').read()\n",
    "text[:500]  # Affiche les 500 premiers caractères\n",
    "\n",
    "# Extraire les mots clés\n",
    "keywords = kw_extractor.extract_keywords(text)\n",
    "keywords\n",
    "\n",
    "\n"
   ]
  },
  {
   "cell_type": "code",
   "execution_count": 19,
   "metadata": {},
   "outputs": [
    {
     "name": "stdout",
     "output_type": "stream",
     "text": [
      "KB_JB838_1926-01-02_01-00011.txt mentions these keywords: Agence Rossel, DEMANDE bon, Hôtel Terminus, Terres Rotige, demande dame...\n",
      "KB_JB838_1926-01-07_01-00014.txt mentions these keywords: cousine Marthe, avenue Louise, TORPEDO OAKLAND, RUE STEVIN, Pàuvrès Nie, vendre prix, dit Nie...\n",
      "KB_JB838_1926-01-10_01-00010.txt mentions these keywords: Question Classez, ELEGANTE ECONOME, ECONOME GAIE, SOUMISE INSTRUITE, ENERGIQUE FORT, SPORTIF AFFECTUEUX, INSTRUITE FIDELE, FORT INTELLIGENT, AFFECTUEUX TRAVAILLEUR, TRAVAILLEUR GENEREUX, DORMIR ETUDIER, ETUDIER LIRE, LIRE DANSER, DANSER MANGER, MANGER JOUER, JOUER VOYAGER, GENEREUX CONCOURS, notaire LAMAL, notaire CLAES, Ledit notaire...\n",
      "KB_JB838_1926-01-15_01-00006.txt mentions these keywords: Congo Belge, Congo Bclgo, Chili disp, Anvers disp, Bunubo disp, Plata disp, Anvers cap, capital Mopoli...\n",
      "KB_JB838_1926-01-18_01-00003.txt mentions these keywords: Lincoln Trebitsch, FAUSSAIRES HONGROIS, Projets Financiers, L’Académie d’Italie, Faux billets, gouvernement fasciste, fascistes hongrois...\n",
      "KB_JB838_1926-01-20_01-00003.txt mentions these keywords: BANQUE NATIONALE, faux billets, Mme François, Petit Parisien...\n",
      "KB_JB838_1926-01-21_01-00006.txt mentions these keywords: Congo Belge, Congo Congo, Pays Liège, Anvers disp, Anvers cap, Congo parts, INTÉRÊTS MATÉRIELS...\n",
      "KB_JB838_1926-01-24_01-00002.txt mentions these keywords: prix littéraires, l’Union Nationale, gouvernement français, René Benjamin, Arts décoratifs, Joseph Crussaire, chiens ordinaires...\n",
      "KB_JB838_1926-02-02_01-00004.txt mentions these keywords: MARIE MESMIN, demeurant rue, GLACE NATURELLE, GLACE ARTIFICIELLE, samedi soir, d’un revolver, prie d'annoncer, rue Cli, Cécile Ciply...\n",
      "KB_JB838_1926-02-04_01-00005.txt mentions these keywords: Xon placés, Bon Marché, PRIX D’ANDALOUSIE, Grands Magasins, trot monté, Total général, Mme Paul...\n",
      "KB_JB838_1926-02-05_01-00001.txt mentions these keywords: Sylvain Dupuis, ANCIENS COMBATTANTS, associations belges, Comité Permanent, congrès colonial, qu’il faut, BRUXELLES Paris, Bourse qu’ils...\n",
      "KB_JB838_1926-02-08_11-00001.txt mentions these keywords: Grands Magasins, grand bal, Mme Jules, Collectes Brasserie, Mme Vve, Mme Letroye...\n",
      "KB_JB838_1926-02-12_01-00012.txt mentions these keywords: Agence Rossel, Bruxelles Immobilier, l’Agence Rossel, Bas prix, Bons gages, cause santé...\n",
      "KB_JB838_1926-02-22_01-00008.txt mentions these keywords: Belle maison, Agence Rosscl, LOUER belle, LOUER mais, LOUER bel, LOUER maison, belle mais, Belle villa, Longue rue, vendre bel, bel hôtel...\n",
      "KB_JB838_1926-02-24_01-00004.txt mentions these keywords: Piodüits agricoles, Boxing Club, Progrès agricoles, rue Royale, rue Haute, GRAVE ACCIDENT, GRANDS PRIX...\n",
      "KB_JB838_1926-03-13_01-00001.txt mentions these keywords: Mme Bouleau, FERNAND ROUKENS, Jules Van, BRUXELLES Parie, Mlle Cécile, Nations n’a, l’Institut Saint-Josse...\n",
      "KB_JB838_1926-03-19_01-00010.txt mentions these keywords: Agence Rossel, QUABTIBK LOBISE, l’Agence Rossel...\n",
      "KB_JB838_1926-03-22_01-00002.txt mentions these keywords: colonie fut, grand nombre, SERVICE Paris...\n",
      "KB_JB838_1926-03-25_01-00009.txt mentions these keywords: Agence Rossel, BRUXELLES dem, LOUER bel, bel app., LOUER quart, BEL app, demande BONS, prix mod, louer app...\n",
      "KB_JB838_1926-03-25_01-00012.txt mentions these keywords: Bruxelles Immobilier, ACTIF OFFICE, GUIDE IMMOBILIER, rue Van, BAS PRIX, loyer couvert, COMPTOIR IMMOBILIER...\n",
      "KB_JB838_1926-03-28_01-00014.txt mentions these keywords: Bœuf Ciras, Agence Bossel, Boôuf gras, kermesse Flamande, BRUXELLES Fêté, Grand Cortège, Bon. référ, référ. exig, bons gages, bonnes référ....\n",
      "KB_JB838_1926-03-28_01-00016.txt mentions these keywords: parfait état, LONDRES DrîCCCf, VENDRE Torpédo, bon état, PAGES FILS, FILS SPÉCIAUX, état parfait, BUICK Torpédo, rue Gray, rue Royale, bas prix...\n",
      "KB_JB838_1926-04-01_01-00002.txt mentions these keywords: Mgr VAN, VAN ROEY, Arts décoratifs, affaires étrangères, Mme Evaldre, Mgr Evrard, Reine Ira, belge Paris, Ecole Bissehof, Mme Paul, secrétaire général...\n",
      "KB_JB838_1926-04-02_01-00014.txt mentions these keywords: Agence Rossel, bon état, Bon commerce, rue Rogler...\n",
      "KB_JB838_1926-04-04_01-00009.txt mentions these keywords: BELLE MAISON, Ledit notaire, notaire VAN, BONNE MAISON, VAN BENEDEN, BRUXELLES BELLE, RENTIER rue...\n",
      "KB_JB838_1926-04-09_01-00007.txt mentions these keywords: Arthur DEREYMA, rue Neuve, DEREYMA EIvEIt, l'huissier Arthur, BELLE MAISON, SOCIETE ANONYME, rue rue, rue Ernest-Allard...\n",
      "KB_JB838_1926-04-09_01-00008.txt mentions these keywords: SOIE MOTEL, DESIRE LOUER, louer appart, belle maison, LOUER bel, LOUER app, bel appart, bel app., louer ler, Maison Rentier, bel app, BEAU terrain, LOUER libre, LOUER maison...\n",
      "KB_JB838_1926-04-10_01-00011.txt mentions these keywords: Agence Rossel, demande bon, demande bonnes, bons gages, bonnes ouvrières, rue Van, CHAMBRE garnie, DEMANDE jeune, dem. app, PATISSERIE dem...\n",
      "KB_JB838_1926-04-11_01-00003.txt mentions these keywords: Pierre Mengin, RÉPUBLIQUE DÉMISSIONNE, francs d’amende, FOIRE COMMERCIALE, Hydro-Pompe Pierre, DÉMISSIONNE Pékin...\n",
      "KB_JB838_1926-04-12_01-00007.txt mentions these keywords: L’ABBÉ SOURY, Obligations remboursables, Séries remboursables, Général Liégeois, Crédit Général, Bernardo Scribanti, BRUXELLES Emprunt, Gabriel Minet, Quatuor Zimmer, César Franck, Michel Vérilleux...\n",
      "KB_JB838_1926-04-16_01-00013.txt mentions these keywords: bon état, Bas prix, Conduite intérieure, torpédo FIAT, OCCASION UNIQUE...\n",
      "KB_JB838_1926-04-19_01-00014.txt mentions these keywords: PAGES FILS, bas prix, VENDRE bas, VENDRE Camion, bon état, OCCASION UNIQUE, FILS SPÉCIAUX, MINERVA TORPEDO...\n",
      "KB_JB838_1926-04-21_01-00006.txt mentions these keywords: Congo Belge, Plata disp, Lin Plata, Congo Congo, belge disp, Russie disp, Anvers disp, Bulgarie disp, Société Belge, Banque Belge...\n",
      "KB_JB838_1926-04-24_01-00001.txt mentions these keywords: VAN VELSEN, DOCTEUR VAN, hier soir, professeur Bayet, nouveau ministre, L’UNION ANGLO-BELGE, nationale belge, service armé...\n",
      "KB_JB838_1926-04-27_01-00003.txt mentions these keywords: gouvernement soviétique, Traité germano-russe, PARIS PARIS, soviets Paris, Ieo soviets, Russie soviétique, traité d’amitié, questions litigieuses...\n",
      "KB_JB838_1926-04-27_01-00010.txt mentions these keywords: Agence Rossel, Bruxelles Immobilier, rue Van, DEMANDE fille, Van Artevelde, bons gages, ACTIF OFFICE, Van Arte, Bons gag, JEUNE FILLE, seul dem, dem. serv....\n",
      "KB_JB838_1926-04-28_01-00011.txt mentions these keywords: Bruxelles Immobilier, rue Van, Agence Rossel, WWW UNDAUPLIANr, rue Braemt, Guide Immobilier, BON piano...\n",
      "KB_JB838_1926-04-30_01-00002.txt mentions these keywords: d’autre part, conférence économique, situation politique, gouvernement belge, lieutenant général, politique extérieure, hôteliers américains, PAYS SCANDINAVES, gouvernement allemand...\n",
      "KB_JB838_1926-05-06_01-00006.txt mentions these keywords: action ordinaire, Congo Belge, Action privilégiée, Action capital, GOMMÜNIQüfcS BARCELONA, Congo Congo, Anvers capital, Lin amér...\n",
      "KB_JB838_1926-05-07_01-00003.txt mentions these keywords: grève générale, British Gazette, Conseil général, jeudi matin, ministre ajoute, PRESSE ÉTRANGÈRE...\n",
      "KB_JB838_1926-05-08_01-00002.txt mentions these keywords: grève générale, grève anglaise, caisse nationale, Mme Haugy, délégués riffains...\n",
      "KB_JB838_1926-05-09_01-00016.txt mentions these keywords: Tablier fantaisie, bonne qualité, belle qualité, tablier TABLIER, fond blanc, garni joli, PAGE E-ins, jours fantaisie, qualité extra, deWavre Téléphone, damier fantaisie, garni biais...\n",
      "KB_JB838_1926-05-13_01-00010.txt mentions these keywords: Agence Bosscl, Agence Rossel, LOUER app, BEL app...\n",
      "KB_JB838_1926-05-16_01-00004.txt mentions these keywords: rue Royale, lieutenant baron, RUE ANTOINE-DANSAERT, CONCOURS HIPPIQUE, COLLISION D'AUTOS, Grand Hôtel, cheval d’armes...\n",
      "KB_JB838_1926-05-17_01-00007.txt mentions these keywords: INDICATEUR BERTRAND, sœur Yvonne, Conseil d'administration, Rue Royale, Siège social, LOUER Villa, louer maison, maison VILLAS, belle villa, Bernardo Scribanti, SOCIETE ANONYME...\n",
      "KB_JB838_1926-06-04_01-00011.txt mentions these keywords: Agence Rossel, jne fille, demande place, cherche place, jeune homme, place demande, JNE FEM., jeune fille, rue Neuve...\n",
      "KB_JB838_1926-06-06_01-00002.txt mentions these keywords: VAN OVERSTRAETEN, projets financiers, VAN DIEVOET, appel nominal, Chambre vote, VANDE VYVERE, Chambre aborde, Chambre passe...\n",
      "KB_JB838_1926-06-07_01-00010.txt mentions these keywords: Agence Rossei, Agence Eossci, CAUSE SANTÉ, Agence Bosscl, haut prix, bon état, rue Neuve, REMETTRE AGENCE...\n",
      "KB_JB838_1926-06-10_01-00013.txt mentions these keywords: parfait état, Torpédos FIAT, vendre Torpédo, bon état, Moto Saroiéa, Camionnette état, BUICK Torpédo, vendre Fiat...\n",
      "KB_JB838_1926-06-11_01-00012.txt mentions these keywords: Agence Rossel, rue Van, vendre d'occasion, RUE NEUVE, long bail, rue Vau, GARE MIDI...\n",
      "KB_JB838_1926-06-18_01-00002.txt mentions these keywords: finances intérieures, ÉLECTIONS COMMUNALES, lieu dimanche, Marguerite Baulu, situation intérieure, dimanche prochain...\n",
      "KB_JB838_1926-06-18_01-00012.txt mentions these keywords: Uir-Tr TÔJUIN, Prix modérés, haut prix, RUE NEUVE, Agence Rossel...\n",
      "KB_JB838_1926-06-20_01-00008.txt mentions these keywords: ledit notaire, BONNE MAISON, BELLE MAISON, notaire VAN, notaire JACoBS, notaire adjugera, BELLE VILLA, RENTIER rue, notaire vendra...\n",
      "KB_JB838_1926-06-23_01-00004.txt mentions these keywords: JEUNE FILLE, PRIX ROI, comte Markariantz, Mme Perron, PRIX ROYAL, demeurant rue, GRAVE ACCIDENT, Caravane PRIX...\n",
      "KB_JB838_1926-06-27_01-00010.txt mentions these keywords: VENTE PUBLIQUE, belle Maison, d’une BELLE, BELLE VILLA, Rue Royale, publique d’une, LOUIS XVI, Bruxelles VENTE, EXPOSITION PUBLIQUE, Grande VENTE, BELLE SALLE...\n",
      "KB_JB838_1926-07-01_01-00009.txt mentions these keywords: Agence Rossel, DAMES dem, DAME dem, Coiffeur dem, l’Agence Rossel, demande bon, Teinturerie dem, Caoutch. dem, CIG. dem, BOUCHER dem, TÀILLÉUR dem, PÔELERIE dem...\n",
      "KB_JB838_1926-07-01_01-00012.txt mentions these keywords: Agence Rossei, Bruxelles Immobilier, rue Van, Van Artcvclde, Occasion Unique, HUILE IMPÉRIALE, CAUSE Départ, SOIR MÉNAGÈRES, gare Midi...\n",
      "KB_JB838_1926-07-04_01-00012.txt mentions these keywords: pure laine, Agence Rossel, Grande largeur, VENTE PUBLIQUE, Deutsche Bank, POPELINE CHINÉE, rue Verte, rue Charles, Bruxelles VENTE, juillet prochain, BLANKENBERGHE PENSION...\n",
      "KB_JB838_1926-07-05_01-00003.txt mentions these keywords: Georges Irat, Licorne III, VAN DAM, Salmson III, COURSE Peugeot, COURSE Catégorie, l'allure moyenne...\n",
      "KB_JB838_1926-07-05_01-00007.txt mentions these keywords: LOUER LOUER, belle villa, LOUER Belle, Belle Maison, louer villas, VENDRE rue, rue Boyale, LOUER grand, LOUER Bel, VENDRE prix, LOUER trams, Maison RENTIER, villa meublée, Villa libre, VENDRE belle...\n",
      "KB_JB838_1926-07-07_01-00004.txt mentions these keywords: demeurant rue, briqueterie Huysmans, Renient envahie, Çonsiant Leens, USINES ENVAHIES, coin rue, grande avance, PRIX PARMESAN...\n",
      "KB_JB838_1926-07-08_01-00006.txt mentions these keywords: Congo belge, Indigène disp, Congo disp, Russie disp, Plala disp, Bulgarie disp, Chili disp, lin disp, Bourgas disp, Anvers cap...\n",
      "KB_JB838_1926-07-12_01-00010.txt mentions these keywords: OIR FILS, parfait état, bas prix, FILS SPÉCIAUX, vendre prix, bon état, Agence Bossel, rue Oapouillet, rue Joseph...\n",
      "KB_JB838_1926-07-14_01-00009.txt mentions these keywords: Agence Rossel, jeune fille, BONS ouvriers, Agonco Rossel, Agence Itosscl, DEM. serveuse, Bon ouvrier, JNE FILLE, jeune hom, Bon coiffeur...\n",
      "KB_JB838_1926-07-15_01-00008.txt mentions these keywords: RETOUR D’AGE, Agence Rossel, Prix mod, LOUER beau, LOUER app, bel app, quartier garni...\n",
      "KB_JB838_1926-07-16_01-00012.txt mentions these keywords: parfait état, bon état, Blàsco Ibanez, bas prix, EMMEL RICARDO, PAGES FILS, FILS SPÉCIAUX, Torpédo état...\n",
      "KB_JB838_1926-07-28_01-00002.txt mentions these keywords: conseil communal, SALUT PUBLIC, franc belge, vies humaines...\n",
      "KB_JB838_1926-07-30_01-00005.txt mentions these keywords: pigeons lâchés, Pigeon Rapide, vieux pigeons, jeunes pigeons, rue Van, Société royale, Félix van, Ter prix, lcr prix, GRAND PRIX...\n",
      "KB_JB838_1926-08-11_01-00004.txt mentions these keywords: tient lieu, avis tient, présent avis, pris place, lundi matin...\n",
      "KB_JB838_1926-08-16_01-00004.txt mentions these keywords: samedi matin, Wciivejjgs luriieiairés, TRIBUNAL CORRECTIONNEL, WHITE STAR, Samedi soir, GRAVE ACCIDENT, jeune homme...\n",
      "KB_JB838_1926-08-18_01-00006.txt mentions these keywords: Congo Belge, Indigène disp, Congo Congo, Plata disp, Société Belge, COMMERCE Bourse, Pays Charleroi, Russie disp, Charleroi cap...\n",
      "KB_JB838_1926-08-21_01-00009.txt mentions these keywords: Agence Rossel, jeune fille, fille dem, MENAGE dem, bons gages, bonne fille, bonnes références, rue Neuve, rue Mode, bonne cuis., enf. dem...\n",
      "KB_JB838_1926-08-27_01-00008.txt mentions these keywords: Agence Rossel, LOUER appart, DESIRE LOUER, bel appart, bel app, louer app, LOUER beau, LOUER bel, LOUER appartements, quartier Louise, DESIRE Muir...\n",
      "KB_JB838_1926-09-03_01-00002.txt mentions these keywords: siège permanent, Melons brodés, GENÈVE Genève, d’un siège, conseil communal, Adolphe Caffet, cou séil, CONSEIL Paris...\n",
      "KB_JB838_1926-09-05_01-00009.txt mentions these keywords: grand bureau, GLASER Père, Vente Publique...\n",
      "KB_JB838_1926-09-11_01-00010.txt mentions these keywords: Agence Rossel, JNE FILLE, cherche place, Bons gages, demande place, dem. place, Jeune homme, FEMME dem, bonne fille, DEMANDE fille...\n",
      "KB_JB838_1926-09-18_01-00003.txt mentions these keywords: LE-SOIR BILLET, BILLET POLITIQUE, PARIS PARIS, c’est Jirasek, général Primo, partie farine, Sanchez Guerra, Aloïs Jirasek...\n",
      "KB_JB838_1926-09-21_01-00008.txt mentions these keywords: Agence Rossel, jne fille, Bons gages, DEM. fem, DEMANDE Femme, dem. place, demande place, DEMANDE demande, rue Van...\n",
      "KB_JB838_1926-09-25_01-00009.txt mentions these keywords: jolie maison, belle maison, LOUER Maison, DESIRE louer, Agence Rossel, VENDRE Libre, grand Jardin, villa louer, Belle villa, beau Jardin...\n",
      "KB_JB838_1926-10-02_01-00004.txt mentions these keywords: Mrs. Matthieu, Mrs. Armitage, Louis Grand, Mrs. Fayden, Temps moyen, temps total, Matinées PRIX, PRIX UOUTHULST, PRIX BOUL’MICIIE...\n",
      "KB_JB838_1926-10-04_01-00009.txt mentions these keywords: Agence Rossel, bons gages, cherche place, Agence Rossci, dem. trav, bon ouvrier, demande place, BONNES AGENCES, dit Cavendish, AGENCES Ecrire, dem place...\n",
      "KB_JB838_1926-10-08_01-00010.txt mentions these keywords: Agence Rossel, DEMANDE FILLE, bons gages, DEM. serv, jne fille, pers. dem, fille quart, DEM. fille...\n",
      "KB_JB838_1926-10-10_01-00009.txt mentions these keywords: belle MAISON, vente publique, notaire DUPONT, Ledit notaire, notaire VAN, BONNE MAISON, BRUXELLES notaire, BEAU TERRAIN, Bruxelles VENTE, Etude notaire, TRES BELLE, BELLES MAISONS...\n",
      "KB_JB838_1926-10-12_01-00001.txt mentions these keywords: Journée Scolaire, Intérêts communaux, siège socialiste, Agglomération Bruxelloi, ABONNEMENTS Agglomération, parti socialiste, Nuit Rédaction...\n",
      "KB_JB838_1926-10-12_01-00003.txt mentions these keywords: partis bourgeois, c’est Donckers, parti socialiste, d’un siège, lundi matin, Sébastien Donckers, Donckers prétend, parti radical-socialiste...\n",
      "KB_JB838_1926-10-14_01-00005.txt mentions these keywords: Octobre Jeudi, Demain Jeudi, Jeudi soir, samedi soir, rue Royale, jeune femme, Concerts Ysaye, Concert populaire, Mme Jardine, Jeudi dernière...\n",
      "KB_JB838_1926-10-14_01-00012.txt mentions these keywords: bon état, FILS SPÉCIAUX, ILES SOIR, SOIR FILS, parfait état...\n",
      "KB_JB838_1926-10-15_01-00007.txt mentions these keywords: Savon YARDLÉY, belle maison, grande MAISON, lavande pénètre, parfum délicat, pénètre exquisement, vente publique, Riche chambre, rue Rouge...\n",
      "KB_JB838_1926-10-20_01-00003.txt mentions these keywords: Autour d’iin, BILLET POLITIQUE, POLITIQUE Autour, choux rouges, choux verts, BRUXELLES Prix, choux blancs, PARIS PARIS...\n",
      "KB_JB838_1926-10-23_01-00007.txt mentions these keywords: RECONSTITUANT ÉCLAIR, Tablettes LEVÜRE.VÏTAE, LEVÜRE.VÏTAE dlrving, chêne sculpté, j’ai souffert, grand luxe, rue Royale, TABLETTES LEVURE, Salons Artistiques, d'extrême vigueur...\n",
      "KB_JB838_1926-11-06_01-00011.txt mentions these keywords: Agence Rossel, bons vieux, bon prix, BON PIANO, VENDRE D’OCCASION, haut prix, ACHAT Bons, bon état, rue Jos...\n",
      "KB_JB838_1926-11-18_01-00002.txt mentions these keywords: Jules Romains, Affaires étrangères, Van Zuylen, Fernand David, parce qu’il...\n",
      "KB_JB838_1926-11-19_01-00003.txt mentions these keywords: COUR D’ASSISES, Mme Zizi, Van Grunderbeke, BRUXELLES Prix, NOTES PARISIENNES, prince Carol, Mlle Raucourt...\n",
      "KB_JB838_1926-11-19_01-00012.txt mentions these keywords: pneus Ballon, bon état, BAS PRIX, vendre conduite, parfait état, SEENA OWEN, Cond. int, rue Van, vendre d’occasion...\n",
      "KB_JB838_1926-11-22_01-00010.txt mentions these keywords: BON piano, rue Braemt, bon état, FILS SPÉCIAUX, Agence Rossel, DEMANDE piano, rue Royale, rue Van, vendre d’occasion, RUE NEUVE, Bruxelles. Tél, rue Potagère, HAUT PRIX, rue Longue, rue Charpentiers...\n",
      "KB_JB838_1926-11-30_01-00004.txt mentions these keywords: Mme Van, Crème Siamoise, Van Ishoven, rue Neuve, Van Goey, Dimanche soir, mouvement Pes, SOIR rue, fut Van...\n",
      "KB_JB838_1926-12-06_01-00002.txt mentions these keywords: QUESTION SCOLAIRE, directeur général, Paris Paris, précieux baluchon, allés retrouver, questions politiques, Arts décoratifs, conseil national...\n",
      "KB_JB838_1926-12-12_01-00011.txt mentions these keywords: VENTE PUBLIQUE, PUBLIQUE d’une, belle MAISON, VENTES PUBLIQUES, heures précises, D’UNE BELLE, DOMAINES VENTE, rue d’Arenberg, d’assistance publique, ventes domaniales, Lot manteaux, rue Royale...\n",
      "KB_JB838_1926-12-13_01-00010.txt mentions these keywords: Agence Rossel, rue Van, BAS PRIX, CAUSE DEPART, Van Artevelde, rue Jos, rue Linné...\n",
      "KB_JB838_1926-12-17_01-00007.txt mentions these keywords: Vente publique, Salons Artistiques, Raisins Sun-Maid, RUE ROYALE, OBJETS D’ART, VENTES PUBLIQUES, Distributeur Ford, IMPORTANTE VENTE, GRANDE VENTE, Noël Chandieu, Artistiques Rue...\n"
     ]
    }
   ],
   "source": [
    "\n",
    "#Ne garder que les bigrammes pour l'année 1889\n",
    "for f in sorted(files_1926):\n",
    "    text = open(os.path.join(data_path, f), 'r', encoding=\"utf-8\").read()\n",
    "    keywords = kw_extractor.extract_keywords(text)\n",
    "    kept = []\n",
    "    for kw, score in keywords:\n",
    "        words = kw.split()\n",
    "        if len(words) == 2:\n",
    "            kept.append(kw)\n",
    "    print(f\"{f} mentions these keywords: {', '.join(kept)}...\")"
   ]
  }
 ],
 "metadata": {
  "kernelspec": {
   "display_name": "Python 3",
   "language": "python",
   "name": "python3"
  },
  "language_info": {
   "codemirror_mode": {
    "name": "ipython",
    "version": 3
   },
   "file_extension": ".py",
   "mimetype": "text/x-python",
   "name": "python",
   "nbconvert_exporter": "python",
   "pygments_lexer": "ipython3",
   "version": "3.11.9"
  }
 },
 "nbformat": 4,
 "nbformat_minor": 4
}
