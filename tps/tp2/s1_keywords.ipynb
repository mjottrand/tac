{
 "cells": [
  {
   "cell_type": "markdown",
   "metadata": {},
   "source": [
    "# Extraction de Keywords"
   ]
  },
  {
   "cell_type": "markdown",
   "metadata": {},
   "source": [
    "## Imports"
   ]
  },
  {
   "cell_type": "code",
   "execution_count": 13,
   "metadata": {},
   "outputs": [],
   "source": [
    "import os\n",
    "import yake"
   ]
  },
  {
   "cell_type": "markdown",
   "metadata": {},
   "source": [
    "## Extraire les mots clés d'un document avec Yake"
   ]
  },
  {
   "cell_type": "markdown",
   "metadata": {},
   "source": [
    "https://github.com/LIAAD/yake"
   ]
  },
  {
   "cell_type": "code",
   "execution_count": 14,
   "metadata": {},
   "outputs": [
    {
     "data": {
      "text/plain": [
       "<yake.core.yake.KeywordExtractor at 0x1cebac0b3d0>"
      ]
     },
     "execution_count": 14,
     "metadata": {},
     "output_type": "execute_result"
    }
   ],
   "source": [
    "# Instantier l'extracteur de mots clés\n",
    "kw_extractor = yake.KeywordExtractor(lan=\"fr\", top=50)\n",
    "kw_extractor"
   ]
  },
  {
   "cell_type": "code",
   "execution_count": 15,
   "metadata": {},
   "outputs": [],
   "source": [
    "# Lister les Fichiers\n",
    "data_path = \"../data/txt/\"\n",
    "files = [f for f in os.listdir(data_path) if f.endswith('.txt')]"
   ]
  },
  {
   "cell_type": "code",
   "execution_count": 16,
   "metadata": {},
   "outputs": [
    {
     "data": {
      "text/plain": [
       "7936"
      ]
     },
     "execution_count": 16,
     "metadata": {},
     "output_type": "execute_result"
    }
   ],
   "source": [
    "# Imprimer le nombre de fichiers identifiés\n",
    "len(files)"
   ]
  },
  {
   "cell_type": "code",
   "execution_count": 17,
   "metadata": {},
   "outputs": [
    {
     "data": {
      "text/plain": [
       "['KB_JB838_1887-12-22_01-00001.txt',\n",
       " 'KB_JB838_1887-12-22_01-00002.txt',\n",
       " 'KB_JB838_1887-12-22_01-00003.txt',\n",
       " 'KB_JB838_1887-12-22_01-00004.txt',\n",
       " 'KB_JB838_1887-12-22_01-00005.txt',\n",
       " 'KB_JB838_1887-12-22_01-00006.txt',\n",
       " 'KB_JB838_1887-12-23_01-00001.txt',\n",
       " 'KB_JB838_1887-12-23_01-00002.txt',\n",
       " 'KB_JB838_1887-12-24_01-00001.txt',\n",
       " 'KB_JB838_1887-12-24_01-00002.txt']"
      ]
     },
     "execution_count": 17,
     "metadata": {},
     "output_type": "execute_result"
    }
   ],
   "source": [
    "# Les dix premiers fichiers\n",
    "files[:10]"
   ]
  },
  {
   "cell_type": "code",
   "execution_count": 18,
   "metadata": {},
   "outputs": [
    {
     "data": {
      "text/plain": [
       "'KB_JB838_1887-12-22_01-00001.txt'"
      ]
     },
     "execution_count": 18,
     "metadata": {},
     "output_type": "execute_result"
    }
   ],
   "source": [
    "# Choisir un fichier\n",
    "this_file = files[0]\n",
    "this_file"
   ]
  },
  {
   "cell_type": "code",
   "execution_count": 19,
   "metadata": {},
   "outputs": [
    {
     "data": {
      "text/plain": [
       "'ræge quotidien J00 EXEMPLAIRES distribués gratuitement ■ k . ‘ dans ilàgg;lomération bruxelloise et.en province. ï personnes habitant aux étages fenile journal contre 60 c“« par mois. fSpir est expédié en proyinôe contre t*»\"par mois, payables par trimestre. annonces, faits divers et réclames sjont reçu frie d’Isabelle ; à l’AGENCE ROSSFJl. 44. -v , et do l’Enseignement, à BraxelL annonces remises avant midi sont ; -a ;\\'% >1 v»^.:Vv* *\\'• hv/f ■- v 1 v ; \\' y > fif \\'ji l\\'H-et. Jeudi 22 Décembre i8'"
      ]
     },
     "execution_count": 19,
     "metadata": {},
     "output_type": "execute_result"
    }
   ],
   "source": [
    "# Récupérer le texte du fichier\n",
    "text = open(os.path.join(data_path, this_file), 'r', encoding='utf-8').read()\n",
    "text[:500]"
   ]
  },
  {
   "cell_type": "code",
   "execution_count": 20,
   "metadata": {},
   "outputs": [
    {
     "data": {
      "text/plain": [
       "[('EXEMPLAIRES distribués gratuitement', 0.0017848580261551092),\n",
       " ('lomération bruxelloise et.en', 0.005155299816540558),\n",
       " ('EXEMPLAIRES distribués', 0.01032598116126104),\n",
       " ('bruxelloise et.en province', 0.0217728194968606),\n",
       " ('assassins politiques', 0.025372781929452606),\n",
       " ('distribués gratuitement', 0.02901112747485758),\n",
       " ('lomération bruxelloise', 0.02901112747485758),\n",
       " ('bruxelloise et.en', 0.029422999711739103),\n",
       " ('QUOTIDIEN GRATUIT Température', 0.030648777502273662),\n",
       " ('qu’il', 0.03653509748641892),\n",
       " ('ASSASSINS', 0.04361721127037355),\n",
       " ('Température Baromètre Humidité', 0.04454901112965941),\n",
       " ('midi Température Baromètre', 0.045927628989632464),\n",
       " ('ræge quotidien', 0.04655000901040904),\n",
       " ('commis', 0.048058141007095885),\n",
       " ('fut', 0.04882392397365301),\n",
       " ('chemin de fer', 0.050194801488827295),\n",
       " ('Louvel', 0.053759999074197734),\n",
       " ('d’une', 0.05450795849251973),\n",
       " ('uno', 0.05452583448200533),\n",
       " ('chemin', 0.05671202509167882),\n",
       " ('fer', 0.058028910575572766),\n",
       " ('société', 0.058078927524250014),\n",
       " ('heures', 0.06036055270043405),\n",
       " ('EXEMPLAIRES', 0.06045375295405591),\n",
       " ('BRUXELLES', 0.0631757910395919),\n",
       " ('travail', 0.06677791183530812),\n",
       " ('politiques', 0.07041544451832259),\n",
       " ('midi', 0.07178224097813798),\n",
       " ('Décembre', 0.07190750597999457),\n",
       " ('jour', 0.07770046095862936),\n",
       " ('ligne', 0.07895680838156742),\n",
       " ('grand', 0.08524689838955626),\n",
       " ('point', 0.0854454893320521),\n",
       " ('d’un', 0.08590493659764754),\n",
       " ('SIÈCLE', 0.08642054582643506),\n",
       " ('GRATUIT Température maximum', 0.08644026197037143),\n",
       " ('ans', 0.08677156289016351),\n",
       " ('commis au chemin', 0.08702378888054658),\n",
       " ('Jeudi', 0.08748169873313137),\n",
       " ('Morey et Pépin', 0.08788098813597583),\n",
       " ('capitaine', 0.08811629535825924),\n",
       " ('annonces', 0.0917124986670345),\n",
       " ('timbre', 0.09188506963089502),\n",
       " ('homme', 0.09422634093974369),\n",
       " ('QUOTIDIEN GRATUIT', 0.09848701432311693),\n",
       " ('GRATUIT Température', 0.10056496590851494),\n",
       " ('facteur rural', 0.10065021437485533),\n",
       " ('mort', 0.10162870130788097),\n",
       " ('Température Baromètre', 0.1059845847757555)]"
      ]
     },
     "execution_count": 20,
     "metadata": {},
     "output_type": "execute_result"
    }
   ],
   "source": [
    "# Extraire les mots clés de ce texte\n",
    "keywords = kw_extractor.extract_keywords(text)\n",
    "keywords"
   ]
  },
  {
   "cell_type": "code",
   "execution_count": 21,
   "metadata": {},
   "outputs": [
    {
     "data": {
      "text/plain": [
       "['EXEMPLAIRES distribués',\n",
       " 'assassins politiques',\n",
       " 'distribués gratuitement',\n",
       " 'lomération bruxelloise',\n",
       " 'bruxelloise et.en',\n",
       " 'ræge quotidien',\n",
       " 'QUOTIDIEN GRATUIT',\n",
       " 'GRATUIT Température',\n",
       " 'facteur rural',\n",
       " 'Température Baromètre']"
      ]
     },
     "execution_count": 21,
     "metadata": {},
     "output_type": "execute_result"
    }
   ],
   "source": [
    "# Ne garder que les bigrammes\n",
    "kept = []\n",
    "for kw, score in keywords:\n",
    "    words = kw.split()\n",
    "    if len(words) == 2:\n",
    "        kept.append(kw)\n",
    "kept"
   ]
  },
  {
   "cell_type": "markdown",
   "metadata": {},
   "source": [
    "## Faire la même opération sur tous les documents"
   ]
  },
  {
   "cell_type": "code",
   "execution_count": 22,
   "metadata": {},
   "outputs": [
    {
     "name": "stdout",
     "output_type": "stream",
     "text": [
      "KB_JB838_1887-12-22_01-00001.txt mentions these keywords: EXEMPLAIRES distribués, assassins politiques, distribués gratuitement, lomération bruxelloise, bruxelloise et.en, ræge quotidien, QUOTIDIEN GRATUIT, GRATUIT Température, facteur rural, Température Baromètre...\n",
      "KB_JB838_1887-12-22_01-00002.txt mentions these keywords: Ligue nalio, rester fidèle, Van Ophem...\n",
      "KB_JB838_1887-12-22_01-00003.txt mentions these keywords: prince Guillaume, Finet critique, Pierrot Macabre, HEURE Vienne...\n",
      "KB_JB838_1887-12-22_01-00004.txt mentions these keywords: demande place, fiVS ÉPICERIES, ÉPICERIES t'Tu, lie Cologne, Fille val., place Madou, Bon Marché, rue Scailquin, rue Plantin, sci rue, bon certifie, rue lie, rue Bines, exposition Bruxelles, place sach, Bruxelles Centre, BRUXELLES Rideauœ...\n",
      "KB_JB838_1887-12-22_01-00005.txt mentions these keywords: rue Plantin, OBJETS PERDUS, PERDUS gravure, LOUER DEMANDES, grande rue, rue Blaes, rue Hôtel, prix Bruxelles, rue Goflhrl, wôporler rue, rue St-Micliel...\n",
      "KB_JB838_1887-12-22_01-00006.txt mentions these keywords: RHUM ST-GEORGES, question militaire, Société royale, Société Philharmonique, l’école militaire, rue Haute, Nord BRUXELLES, préparatifs militaires, loi portant...\n",
      "KB_JB838_1887-12-23_01-00001.txt mentions these keywords: matin Température, Température maximum, GRATUIT température, température Irti, heurte matin, OBSERVATOIRE ROYAL, Irti Baromètre, QUOTIDIEN GRATUIT, JOURNAL QUOTIDIEN, rues Royale, Vent dominant, Haute Pinte, Bruxelles d’un, RUE D'ISABELLE, Pinte rue...\n",
      "KB_JB838_1887-12-23_01-00002.txt mentions these keywords: ...\n",
      "KB_JB838_1887-12-24_01-00001.txt mentions these keywords: TIRAGE QUOTIDIEN, nommé président, JOURNAL QUOTIDIEN, c’est qu’il, QUOTIDIEN GRATUIT, ANNÉE Samedi, section artistique, BRUXELLES PRIX...\n",
      "KB_JB838_1887-12-24_01-00002.txt mentions these keywords: capitaine Mac, Mme Lachaud, rue Joseph, police qu’il, jeune homme...\n"
     ]
    }
   ],
   "source": [
    "for f in sorted(files)[:10]:\n",
    "    text = open(os.path.join(data_path, f), 'r', encoding=\"utf-8\").read()\n",
    "    keywords = kw_extractor.extract_keywords(text)\n",
    "    kept = []\n",
    "    for kw, score in keywords:\n",
    "        words = kw.split()\n",
    "        if len(words) == 2:\n",
    "            kept.append(kw)\n",
    "    print(f\"{f} mentions these keywords: {', '.join(kept)}...\")"
   ]
  },
  {
   "cell_type": "markdown",
   "metadata": {},
   "source": []
  },
  {
   "cell_type": "code",
   "execution_count": 23,
   "metadata": {},
   "outputs": [
    {
     "data": {
      "text/plain": [
       "[('DEM', 0.006077108441792023),\n",
       " ('Hôtel', 0.006150998790220248),\n",
       " ('rue', 0.006986498146727471),\n",
       " ('DEMANDE', 0.014016093707011084),\n",
       " ('Kérallan', 0.014701200609664556),\n",
       " ('président', 0.017251166261436135),\n",
       " ('Agence Rossel', 0.018265143862976438),\n",
       " ('Rossel', 0.023225351547832257),\n",
       " ('bon', 0.024256773027979846),\n",
       " ('BRUXELLES', 0.025430208921804382),\n",
       " ('JANVIER', 0.02966395815029336),\n",
       " ('jours', 0.031685233212365195),\n",
       " ('DEMANDE bon', 0.032593290940344154),\n",
       " ('Lot', 0.03739322965495584),\n",
       " ('Hôtel Terminus', 0.03778001569170478),\n",
       " ('Soldé', 0.03809708478078028),\n",
       " ('Terres Rotige', 0.03968329206737943),\n",
       " ('lit', 0.04183870815130623),\n",
       " ('Agence', 0.041879213130503176),\n",
       " ('lundi', 0.04238079922961772),\n",
       " ('bonne', 0.04253253188821074),\n",
       " ('SOIE', 0.04697032229754359),\n",
       " ('mètre', 0.04754664560460624),\n",
       " ('Spécialiste ALBERT DUMONCEAU', 0.047856746114327234),\n",
       " ('Ecrire', 0.04893507155687938),\n",
       " ('baron', 0.05218197515463672),\n",
       " ('dit', 0.05332953704188147),\n",
       " ('maison', 0.05363215104031025),\n",
       " ('Biscuiterie demande dame', 0.054599104432932956),\n",
       " ('Dame', 0.0550455319578111),\n",
       " ('Dame Garniture jours', 0.05584632631971069),\n",
       " ('dimanche', 0.05665162326919042),\n",
       " ('Yvon de Kérallan', 0.05724174104925937),\n",
       " ('Noir', 0.058016368549396825),\n",
       " ('Porhoët', 0.06133153719981461),\n",
       " ('DUMONCEAU', 0.06282824240484707),\n",
       " ('demandé', 0.06368834319150533),\n",
       " ('AVI', 0.06489832471838532),\n",
       " ('RTE', 0.06534246733868564),\n",
       " ('DÉM', 0.06620038767303892),\n",
       " ('draps', 0.06677020138679339),\n",
       " ('station', 0.06717196023598815),\n",
       " ('Ecrire rue Cnm', 0.06922012963838056),\n",
       " ('DEM.', 0.07021196191202662),\n",
       " ('Nord', 0.07134529182766187),\n",
       " ('main', 0.07156832714467838),\n",
       " ('Yvon', 0.07337436952609815),\n",
       " ('bonnes', 0.07443193080436879),\n",
       " ('demande dame', 0.0746183842828173),\n",
       " ('grande', 0.07492887870288702)]"
      ]
     },
     "execution_count": 23,
     "metadata": {},
     "output_type": "execute_result"
    }
   ],
   "source": [
    "# Imports\n",
    "import os\n",
    "import yake\n",
    "\n",
    "# Instantier l'extracteur de mots clés\n",
    "kw_extractor = yake.KeywordExtractor(lan=\"fr\", top=50)\n",
    "kw_extractor\n",
    "\n",
    "# Lister les Fichiers\n",
    "data_path = \"../data/txt/\"\n",
    "files = [f for f in os.listdir(data_path) if f.endswith('.txt')]\n",
    "\n",
    "# Lister les fichiers d'une année\n",
    "year = 1926\n",
    "files_1926=[f for f in files if str(year) in f]\n",
    "\n",
    "#Choisir un fichier\n",
    "\n",
    "files = files_1926[0]  # Premier fichier de l'année 1889\n",
    "text = open(os.path.join(data_path, files), 'r', encoding='utf-8').read()\n",
    "text[:500]  # Affiche les 500 premiers caractères\n",
    "\n",
    "# Extraire les mots clés\n",
    "keywords = kw_extractor.extract_keywords(text)\n",
    "keywords\n",
    "\n",
    "\n"
   ]
  },
  {
   "cell_type": "code",
   "execution_count": 24,
   "metadata": {},
   "outputs": [
    {
     "ename": "NameError",
     "evalue": "name 'files_1889' is not defined",
     "output_type": "error",
     "traceback": [
      "\u001b[31m---------------------------------------------------------------------------\u001b[39m",
      "\u001b[31mNameError\u001b[39m                                 Traceback (most recent call last)",
      "\u001b[36mCell\u001b[39m\u001b[36m \u001b[39m\u001b[32mIn[24]\u001b[39m\u001b[32m, line 2\u001b[39m\n\u001b[32m      1\u001b[39m \u001b[38;5;66;03m#Ne garder que les bigrammes pour l'année 1889\u001b[39;00m\n\u001b[32m----> \u001b[39m\u001b[32m2\u001b[39m \u001b[38;5;28;01mfor\u001b[39;00m f \u001b[38;5;129;01min\u001b[39;00m \u001b[38;5;28msorted\u001b[39m(\u001b[43mfiles_1889\u001b[49m):\n\u001b[32m      3\u001b[39m     text = \u001b[38;5;28mopen\u001b[39m(os.path.join(data_path, f), \u001b[33m'\u001b[39m\u001b[33mr\u001b[39m\u001b[33m'\u001b[39m, encoding=\u001b[33m\"\u001b[39m\u001b[33mutf-8\u001b[39m\u001b[33m\"\u001b[39m).read()\n\u001b[32m      4\u001b[39m     keywords = kw_extractor.extract_keywords(text)\n",
      "\u001b[31mNameError\u001b[39m: name 'files_1889' is not defined"
     ]
    }
   ],
   "source": [
    "\n",
    "#Ne garder que les bigrammes pour l'année 1889\n",
    "for f in sorted(files_1889):\n",
    "    text = open(os.path.join(data_path, f), 'r', encoding=\"utf-8\").read()\n",
    "    keywords = kw_extractor.extract_keywords(text)\n",
    "    kept = []\n",
    "    for kw, score in keywords:\n",
    "        words = kw.split()\n",
    "        if len(words) == 2:\n",
    "            kept.append(kw)\n",
    "    print(f\"{f} mentions these keywords: {', '.join(kept)}...\")"
   ]
  }
 ],
 "metadata": {
  "kernelspec": {
   "display_name": "Python 3",
   "language": "python",
   "name": "python3"
  },
  "language_info": {
   "codemirror_mode": {
    "name": "ipython",
    "version": 3
   },
   "file_extension": ".py",
   "mimetype": "text/x-python",
   "name": "python",
   "nbconvert_exporter": "python",
   "pygments_lexer": "ipython3",
   "version": "3.11.9"
  }
 },
 "nbformat": 4,
 "nbformat_minor": 4
}
