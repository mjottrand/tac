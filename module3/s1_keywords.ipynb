{
 "cells": [
  {
   "cell_type": "markdown",
   "metadata": {},
   "source": [
    "# Extraction de Keywords"
   ]
  },
  {
   "cell_type": "markdown",
   "metadata": {},
   "source": [
    "## Imports"
   ]
  },
  {
   "cell_type": "code",
   "execution_count": 2,
   "metadata": {},
   "outputs": [],
   "source": [
    "import os\n",
    "import yake"
   ]
  },
  {
   "cell_type": "markdown",
   "metadata": {},
   "source": [
    "## Extraire les mots clés d'un document avec Yake"
   ]
  },
  {
   "cell_type": "markdown",
   "metadata": {},
   "source": [
    "https://github.com/LIAAD/yake"
   ]
  },
  {
   "cell_type": "code",
   "execution_count": 3,
   "metadata": {},
   "outputs": [
    {
     "data": {
      "text/plain": [
       "<yake.core.yake.KeywordExtractor at 0x2b1c3db3310>"
      ]
     },
     "execution_count": 3,
     "metadata": {},
     "output_type": "execute_result"
    }
   ],
   "source": [
    "# Instantier l'extracteur de mots clés\n",
    "kw_extractor = yake.KeywordExtractor(lan=\"fr\", top=50)\n",
    "kw_extractor"
   ]
  },
  {
   "cell_type": "code",
   "execution_count": 4,
   "metadata": {},
   "outputs": [],
   "source": [
    "# Lister les Fichiers\n",
    "data_path = \"../data/txt/\"\n",
    "files = [f for f in os.listdir(data_path) if f.endswith('.txt')]"
   ]
  },
  {
   "cell_type": "code",
   "execution_count": 5,
   "metadata": {},
   "outputs": [
    {
     "data": {
      "text/plain": [
       "7936"
      ]
     },
     "execution_count": 5,
     "metadata": {},
     "output_type": "execute_result"
    }
   ],
   "source": [
    "# Imprimer le nombre de fichiers identifiés\n",
    "len(files)"
   ]
  },
  {
   "cell_type": "code",
   "execution_count": 6,
   "metadata": {},
   "outputs": [
    {
     "data": {
      "text/plain": [
       "['KB_JB838_1887-12-22_01-00001.txt',\n",
       " 'KB_JB838_1887-12-22_01-00002.txt',\n",
       " 'KB_JB838_1887-12-22_01-00003.txt',\n",
       " 'KB_JB838_1887-12-22_01-00004.txt',\n",
       " 'KB_JB838_1887-12-22_01-00005.txt',\n",
       " 'KB_JB838_1887-12-22_01-00006.txt',\n",
       " 'KB_JB838_1887-12-23_01-00001.txt',\n",
       " 'KB_JB838_1887-12-23_01-00002.txt',\n",
       " 'KB_JB838_1887-12-24_01-00001.txt',\n",
       " 'KB_JB838_1887-12-24_01-00002.txt']"
      ]
     },
     "execution_count": 6,
     "metadata": {},
     "output_type": "execute_result"
    }
   ],
   "source": [
    "# Les dix premiers fichiers\n",
    "files[:10]"
   ]
  },
  {
   "cell_type": "code",
   "execution_count": 9,
   "metadata": {},
   "outputs": [
    {
     "data": {
      "text/plain": [
       "'KB_JB838_1887-12-22_01-00001.txt'"
      ]
     },
     "execution_count": 9,
     "metadata": {},
     "output_type": "execute_result"
    }
   ],
   "source": [
    "# Choisir un fichier\n",
    "this_file = files[0]\n",
    "this_file"
   ]
  },
  {
   "cell_type": "code",
   "execution_count": 10,
   "metadata": {},
   "outputs": [
    {
     "data": {
      "text/plain": [
       "'ræge quotidien J00 EXEMPLAIRES distribués gratuitement ■ k . ‘ dans ilàgg;lomération bruxelloise et.en province. ï personnes habitant aux étages fenile journal contre 60 c“« par mois. fSpir est expédié en proyinôe contre t*»\"par mois, payables par trimestre. annonces, faits divers et réclames sjont reçu frie d’Isabelle ; à l’AGENCE ROSSFJl. 44. -v , et do l’Enseignement, à BraxelL annonces remises avant midi sont ; -a ;\\'% >1 v»^.:Vv* *\\'• hv/f ■- v 1 v ; \\' y > fif \\'ji l\\'H-et. Jeudi 22 Décembre i8'"
      ]
     },
     "execution_count": 10,
     "metadata": {},
     "output_type": "execute_result"
    }
   ],
   "source": [
    "# Récupérer le texte du fichier\n",
    "text = open(os.path.join(data_path, this_file), 'r', encoding='utf-8').read()\n",
    "text[:500]"
   ]
  },
  {
   "cell_type": "code",
   "execution_count": 11,
   "metadata": {},
   "outputs": [
    {
     "data": {
      "text/plain": [
       "[('EXEMPLAIRES distribués gratuitement', 0.0017848580261551092),\n",
       " ('lomération bruxelloise et.en', 0.005155299816540558),\n",
       " ('EXEMPLAIRES distribués', 0.01032598116126104),\n",
       " ('bruxelloise et.en province', 0.0217728194968606),\n",
       " ('assassins politiques', 0.025372781929452606),\n",
       " ('distribués gratuitement', 0.02901112747485758),\n",
       " ('lomération bruxelloise', 0.02901112747485758),\n",
       " ('bruxelloise et.en', 0.029422999711739103),\n",
       " ('QUOTIDIEN GRATUIT Température', 0.030648777502273662),\n",
       " ('qu’il', 0.03653509748641892),\n",
       " ('ASSASSINS', 0.04361721127037355),\n",
       " ('Température Baromètre Humidité', 0.04454901112965941),\n",
       " ('midi Température Baromètre', 0.045927628989632464),\n",
       " ('ræge quotidien', 0.04655000901040904),\n",
       " ('commis', 0.048058141007095885),\n",
       " ('fut', 0.04882392397365301),\n",
       " ('chemin de fer', 0.050194801488827295),\n",
       " ('Louvel', 0.053759999074197734),\n",
       " ('d’une', 0.05450795849251973),\n",
       " ('uno', 0.05452583448200533),\n",
       " ('chemin', 0.05671202509167882),\n",
       " ('fer', 0.058028910575572766),\n",
       " ('société', 0.058078927524250014),\n",
       " ('heures', 0.06036055270043405),\n",
       " ('EXEMPLAIRES', 0.06045375295405591),\n",
       " ('BRUXELLES', 0.0631757910395919),\n",
       " ('travail', 0.06677791183530812),\n",
       " ('politiques', 0.07041544451832259),\n",
       " ('midi', 0.07178224097813798),\n",
       " ('Décembre', 0.07190750597999457),\n",
       " ('jour', 0.07770046095862936),\n",
       " ('ligne', 0.07895680838156742),\n",
       " ('grand', 0.08524689838955626),\n",
       " ('point', 0.0854454893320521),\n",
       " ('d’un', 0.08590493659764754),\n",
       " ('SIÈCLE', 0.08642054582643506),\n",
       " ('GRATUIT Température maximum', 0.08644026197037143),\n",
       " ('ans', 0.08677156289016351),\n",
       " ('commis au chemin', 0.08702378888054658),\n",
       " ('Jeudi', 0.08748169873313137),\n",
       " ('Morey et Pépin', 0.08788098813597583),\n",
       " ('capitaine', 0.08811629535825924),\n",
       " ('annonces', 0.0917124986670345),\n",
       " ('timbre', 0.09188506963089502),\n",
       " ('homme', 0.09422634093974369),\n",
       " ('QUOTIDIEN GRATUIT', 0.09848701432311693),\n",
       " ('GRATUIT Température', 0.10056496590851494),\n",
       " ('facteur rural', 0.10065021437485533),\n",
       " ('mort', 0.10162870130788097),\n",
       " ('Température Baromètre', 0.1059845847757555)]"
      ]
     },
     "execution_count": 11,
     "metadata": {},
     "output_type": "execute_result"
    }
   ],
   "source": [
    "# Extraire les mots clés de ce texte\n",
    "keywords = kw_extractor.extract_keywords(text)\n",
    "keywords"
   ]
  },
  {
   "cell_type": "code",
   "execution_count": 15,
   "metadata": {},
   "outputs": [
    {
     "data": {
      "text/plain": [
       "['capitaine Mac', 'Mme Lachaud', 'rue Joseph', 'police qu’il', 'jeune homme']"
      ]
     },
     "execution_count": 15,
     "metadata": {},
     "output_type": "execute_result"
    }
   ],
   "source": [
    "# Ne garder que les bigrammes\n",
    "kept = []\n",
    "for kw, score in keywords:\n",
    "    words = kw.split()\n",
    "    if len(words) == 2:\n",
    "        kept.append(kw)\n",
    "kept"
   ]
  },
  {
   "cell_type": "markdown",
   "metadata": {},
   "source": [
    "## Faire la même opération sur tous les documents"
   ]
  },
  {
   "cell_type": "code",
   "execution_count": 16,
   "metadata": {},
   "outputs": [
    {
     "name": "stdout",
     "output_type": "stream",
     "text": [
      "KB_JB838_1887-12-22_01-00001.txt mentions these keywords: EXEMPLAIRES distribués, assassins politiques, distribués gratuitement, lomération bruxelloise, bruxelloise et.en, ræge quotidien, QUOTIDIEN GRATUIT, GRATUIT Température, facteur rural, Température Baromètre...\n",
      "KB_JB838_1887-12-22_01-00002.txt mentions these keywords: Ligue nalio, rester fidèle, Van Ophem...\n",
      "KB_JB838_1887-12-22_01-00003.txt mentions these keywords: prince Guillaume, Finet critique, Pierrot Macabre, HEURE Vienne...\n",
      "KB_JB838_1887-12-22_01-00004.txt mentions these keywords: demande place, fiVS ÉPICERIES, ÉPICERIES t'Tu, lie Cologne, Fille val., place Madou, Bon Marché, rue Scailquin, rue Plantin, sci rue, bon certifie, rue lie, rue Bines, exposition Bruxelles, place sach, Bruxelles Centre, BRUXELLES Rideauœ...\n",
      "KB_JB838_1887-12-22_01-00005.txt mentions these keywords: rue Plantin, OBJETS PERDUS, PERDUS gravure, LOUER DEMANDES, grande rue, rue Blaes, rue Hôtel, prix Bruxelles, rue Goflhrl, wôporler rue, rue St-Micliel...\n",
      "KB_JB838_1887-12-22_01-00006.txt mentions these keywords: RHUM ST-GEORGES, question militaire, Société royale, Société Philharmonique, l’école militaire, rue Haute, Nord BRUXELLES, préparatifs militaires, loi portant...\n",
      "KB_JB838_1887-12-23_01-00001.txt mentions these keywords: matin Température, Température maximum, GRATUIT température, température Irti, heurte matin, OBSERVATOIRE ROYAL, Irti Baromètre, QUOTIDIEN GRATUIT, JOURNAL QUOTIDIEN, rues Royale, Vent dominant, Haute Pinte, Bruxelles d’un, RUE D'ISABELLE, Pinte rue...\n",
      "KB_JB838_1887-12-23_01-00002.txt mentions these keywords: ...\n",
      "KB_JB838_1887-12-24_01-00001.txt mentions these keywords: TIRAGE QUOTIDIEN, nommé président, JOURNAL QUOTIDIEN, c’est qu’il, QUOTIDIEN GRATUIT, ANNÉE Samedi, section artistique, BRUXELLES PRIX...\n",
      "KB_JB838_1887-12-24_01-00002.txt mentions these keywords: capitaine Mac, Mme Lachaud, rue Joseph, police qu’il, jeune homme...\n"
     ]
    }
   ],
   "source": [
    "for f in sorted(files)[:10]:\n",
    "    text = open(os.path.join(data_path, f), 'r', encoding=\"utf-8\").read()\n",
    "    keywords = kw_extractor.extract_keywords(text)\n",
    "    kept = []\n",
    "    for kw, score in keywords:\n",
    "        words = kw.split()\n",
    "        if len(words) == 2:\n",
    "            kept.append(kw)\n",
    "    print(f\"{f} mentions these keywords: {', '.join(kept)}...\")"
   ]
  },
  {
   "cell_type": "markdown",
   "metadata": {},
   "source": []
  },
  {
   "cell_type": "code",
   "execution_count": 20,
   "metadata": {},
   "outputs": [
    {
     "data": {
      "text/plain": [
       "[('DEM', 0.006077108441792023),\n",
       " ('Hôtel', 0.006150998790220248),\n",
       " ('rue', 0.006986498146727471),\n",
       " ('DEMANDE', 0.014016093707011084),\n",
       " ('Kérallan', 0.014701200609664556),\n",
       " ('président', 0.017251166261436135),\n",
       " ('Agence Rossel', 0.018265143862976438),\n",
       " ('Rossel', 0.023225351547832257),\n",
       " ('bon', 0.024256773027979846),\n",
       " ('BRUXELLES', 0.025430208921804382),\n",
       " ('JANVIER', 0.02966395815029336),\n",
       " ('jours', 0.031685233212365195),\n",
       " ('DEMANDE bon', 0.032593290940344154),\n",
       " ('Lot', 0.03739322965495584),\n",
       " ('Hôtel Terminus', 0.03778001569170478),\n",
       " ('Soldé', 0.03809708478078028),\n",
       " ('Terres Rotige', 0.03968329206737943),\n",
       " ('lit', 0.04183870815130623),\n",
       " ('Agence', 0.041879213130503176),\n",
       " ('lundi', 0.04238079922961772),\n",
       " ('bonne', 0.04253253188821074),\n",
       " ('SOIE', 0.04697032229754359),\n",
       " ('mètre', 0.04754664560460624),\n",
       " ('Spécialiste ALBERT DUMONCEAU', 0.047856746114327234),\n",
       " ('Ecrire', 0.04893507155687938),\n",
       " ('baron', 0.05218197515463672),\n",
       " ('dit', 0.05332953704188147),\n",
       " ('maison', 0.05363215104031025),\n",
       " ('Biscuiterie demande dame', 0.054599104432932956),\n",
       " ('Dame', 0.0550455319578111),\n",
       " ('Dame Garniture jours', 0.05584632631971069),\n",
       " ('dimanche', 0.05665162326919042),\n",
       " ('Yvon de Kérallan', 0.05724174104925937),\n",
       " ('Noir', 0.058016368549396825),\n",
       " ('Porhoët', 0.06133153719981461),\n",
       " ('DUMONCEAU', 0.06282824240484707),\n",
       " ('demandé', 0.06368834319150533),\n",
       " ('AVI', 0.06489832471838532),\n",
       " ('RTE', 0.06534246733868564),\n",
       " ('DÉM', 0.06620038767303892),\n",
       " ('draps', 0.06677020138679339),\n",
       " ('station', 0.06717196023598815),\n",
       " ('Ecrire rue Cnm', 0.06922012963838056),\n",
       " ('DEM.', 0.07021196191202662),\n",
       " ('Nord', 0.07134529182766187),\n",
       " ('main', 0.07156832714467838),\n",
       " ('Yvon', 0.07337436952609815),\n",
       " ('bonnes', 0.07443193080436879),\n",
       " ('demande dame', 0.0746183842828173),\n",
       " ('grande', 0.07492887870288702)]"
      ]
     },
     "execution_count": 20,
     "metadata": {},
     "output_type": "execute_result"
    }
   ],
   "source": [
    "# Imports\n",
    "import os\n",
    "import yake\n",
    "\n",
    "# Instantier l'extracteur de mots clés\n",
    "kw_extractor = yake.KeywordExtractor(lan=\"fr\", top=50)\n",
    "kw_extractor\n",
    "\n",
    "# Lister les Fichiers\n",
    "data_path = \"../data/txt/\"\n",
    "files = [f for f in os.listdir(data_path) if f.endswith('.txt')]\n",
    "\n",
    "# Lister les fichiers d'une année\n",
    "year = 1926\n",
    "files_1926=[f for f in files if str(year) in f]\n",
    "\n",
    "#Choisir un fichier\n",
    "\n",
    "files = files_1926[0]  # Premier fichier de l'année 1889\n",
    "text = open(os.path.join(data_path, files), 'r', encoding='utf-8').read()\n",
    "text[:500]  # Affiche les 500 premiers caractères\n",
    "\n",
    "# Extraire les mots clés\n",
    "keywords = kw_extractor.extract_keywords(text)\n",
    "keywords\n",
    "\n",
    "\n"
   ]
  },
  {
   "cell_type": "code",
   "execution_count": 44,
   "metadata": {},
   "outputs": [
    {
     "name": "stdout",
     "output_type": "stream",
     "text": [
      "KB_JB838_1889-01-06_01-00004.txt mentions these keywords: d’une sorte, pauvre Jérôme, d’un petit, alors d’une, d’une voix, d’une substance, Jérôme Masearenc, vieux domestique...\n",
      "KB_JB838_1889-01-06_01-00005.txt mentions these keywords: quetie longue, madame Brun, fit Rose, m’a dit, dit Rose, qu’on joue, C’est madame, dit Juste...\n",
      "KB_JB838_1889-01-07_01-00003.txt mentions these keywords: ayee activité, rue Grand, grande ménagerie, maison Scfcott, rue Montagne, Maison MATHYS-DECTLERCK, Nouvelle Athènes, rue Caattysîcnn, JANVIER Mo.noaie...\n",
      "KB_JB838_1889-01-11_01-00001.txt mentions these keywords: Edîtiok TXRÀÔÉ, TXRÀÔÉ QUOTIDIEN, distribuas eratnitemeat, l'agglomération brùjceUoiæ, eratnitemeat dan, théâtre royal, fit Rose, Rose Rosier, tonte l'agglomération, madame André, répondit Rose, JOU FINAL, FINAL QUOTI, d’un Congrès...\n",
      "KB_JB838_1889-01-14_01-00003.txt mentions these keywords: rat musqué, PELISSE drap, fourrée rat, Hier soir, Fabien Gérard, d’un homme, Banque Nationale...\n",
      "KB_JB838_1889-01-15_01-00002.txt mentions these keywords: cotlo amieu, d’un maitre, Paris Paris, meme temps, dit Rose, Morell Alackensie, CONCERT POPULAIRE...\n",
      "KB_JB838_1889-01-17_01-00004.txt mentions these keywords: Agence Rossei, louer maison, désire place, place fille, fille dem, demande place, bonne maison, place maison, fille désire, Place Jourdan, rue Gauclieret, S’ad. rue, dem fille, demande rue...\n",
      "KB_JB838_1889-01-22_01-00001.txt mentions these keywords: EXEMPLAIRES âisu-îbaés, Mme Michotte, gldiSérfttlon bruxellois, tti établisrôüiSBts, Mme Mitilinéo, dit Rose, Ira Stages, prince Victor, Mme Bourée, Mme Baudin, Mme Powte, habitant Ira, QUOTIDIEN GRATUIT, OBSERVATOIRE ROYAL, André d’un, jôuei Mme, Mme îieRoye, Mme l'archiduchesse...\n",
      "KB_JB838_1889-01-24_01-00001.txt mentions these keywords: ANNÉE Jeudi, ïfâUGE QUOTIDIEN, QUOTIDIEN aO.OOQ, aO.OOQ EXEMPLAIRES, André fit, vieille femme, Midi Tempérétufé, soir Langlois...\n",
      "KB_JB838_1889-01-27_01-00001.txt mentions these keywords: EXEBIPUiRES Ups, ANNÉE TIRAGE, pièces belges, Société dés, loi peine, Conseil communal, exécutions capitales, d’une peine, peine capitale, Enfin l’on...\n",
      "KB_JB838_1889-02-01_01-00003.txt mentions these keywords: dwit adiaîrâtraUf, soeiaüsrae eollecti, faire inscrire, listes éleclorales, capacité électorale, hier soir, rue Yerte...\n",
      "KB_JB838_1889-02-01_01-00004.txt mentions these keywords: Agence Rossel, demande place, désire place, louer maison, perdu fox-terrier, place dem, maison fermée, demande fille, louer rue, demande bonne, maison rue, rue Jourdan, Chien perdu, louer Chambre...\n",
      "KB_JB838_1889-02-07_01-00003.txt mentions these keywords: CHAMBRE ROBES, àpc.çii maitro, l’enfant disparue, pourrait abusorson, abusorson àpc.çii, propre tille, Rue Royale, l'espoir qu’il, qu’il pourrait, rue Grand, Halles BRUXELLES, RUE VAN, vente publique, Bruges Bruxelles...\n",
      "KB_JB838_1889-02-09_01-00001.txt mentions these keywords: ÉXÈMPLAlRËS tSÙtë., OBSERVATOIRE ROYAL, Lis pêrioniifiS, tâb'iiàïit ies, ies éiijse, GENCE ROSSEtis, Jüâtë Àridré, Bbri dti, faite Düf, Iîüxrioiid Picàrii, Jôsqpu Servais, Ofoà-sdnoiii àijiîdl, àijiîdl Température, Thçrm.ds ring...\n",
      "KB_JB838_1889-02-10_01-00004.txt mentions these keywords: grand singe, grands singes, Rose Rozier, dit André, André d’un, Gorille fut, vrais sceptiques...\n",
      "KB_JB838_1889-02-11_01-00001.txt mentions these keywords: TIRAGE QUOTIDIEN, dii Mât, dit Rose, dii Roi, Lés japonais, Température Baromètre, Baromètre Humidité, Mtr Rose, nécrologies Çont, Rose aveo...\n",
      "KB_JB838_1889-02-16_01-00001.txt mentions these keywords: EXEMPLAIRES distribués, Docteur Rameau, ANNÉE Virage, aggloméra,tion bruipllpi, distribués pratuiteineut, principaux établissements, lés principaux, jeune fille, qu’il n’y, Aiadatné Rameau, livre qu’il...\n",
      "KB_JB838_1889-02-28_01-00001.txt mentions these keywords: EXEMPLAIRES distribués, TIRAGE QUOTIDIEN, nhte l'agglomération, l'agglomération bruxellois, principaux étabiteaemeote, distribués gratuitement, dit Langlois, JOURNAL QUOTIDIEN, QUOTIDIEN GRATUIT, répondit Langlois, C’est vrai, dit Rose, GRATUIT OBSERVATOIRE...\n",
      "KB_JB838_1889-03-02_01-00004.txt mentions these keywords: Agence Rossel, demande place, louer maison, bonne maison, louer rue, dentiers laissant, rue Marie, S’ad. rue, chambre garnie, rue Neuve, dem place...\n",
      "KB_JB838_1889-03-08_01-00004.txt mentions these keywords: S’ad. rue, rue Van, demande place, place bon, demande fille, rue Verte, rue Blaes, place Rue, obligation Anvers, rue fie, Rue Royale, foire demande...\n",
      "KB_JB838_1889-03-09_01-00004.txt mentions these keywords: Agence Rossel, rue Royale, dem place, maison fermée, place fille, demande place, bons cert, belle maison, jolie maison, rue Van, grande maison, bonne client., rue Evers, bonne maison, S’ad. rue, dem fille, louer bel, vendre rue...\n",
      "KB_JB838_1889-03-13_01-00004.txt mentions these keywords: MANGER Posés, Posés sacs, sacs devoir, sains' opération, eune fille, fille dem, faire quartier, ille flam, faire bonne...\n",
      "KB_JB838_1889-03-18_01-00004.txt mentions these keywords: louer bel, maison fermée, Agence Rossel, rue d’Isabelle, désire place, sss DENTS...\n",
      "KB_JB838_1889-03-20_01-00003.txt mentions these keywords: Ariie Dubois, Joséphine Servet, ’vri v'femme, fes'pbur admirer, merveilleux costumes, îdurtud spécial, v'femme jeune, rue Royale, jeune fille, jeune homme, Mme Melba, rue Van...\n",
      "KB_JB838_1889-03-21_01-00001.txt mentions these keywords: JIKAOB QÜÔTIDIÉN, dâ.BS Jeudi, eii province, priucip eii, lés priucip, Uar trimésirè, iSO Uar, femme quo, soii mari...\n",
      "KB_JB838_1889-03-22_01-00001.txt mentions these keywords: Céline Chaumont, Don Carlos, petite ligne, OBSERVATOIRE RQYA...\n",
      "KB_JB838_1889-03-28_01-00004.txt mentions these keywords: DOULEUR Beats, sans’ Système, Système tmlqne, dentiers sans’, louer atelier...\n",
      "KB_JB838_1889-03-29_01-00004.txt mentions these keywords: belle maison, louer belle, LOUER Maison, fille dem, louer rue, camp. dem, demande place, louer prix, faire quartier...\n",
      "KB_JB838_1889-04-22_01-00003.txt mentions these keywords: Yap Haçiep, habitant Dilbeek, IQUyiUlS JUDICIAIRES, nwâmêp Yap, fulilaume Yÿnÿnheuvel, RENTIER rue, aient jugé, lé'nyétçsiè trôeppus, mmé fulilaume, Vente publique, située rue...\n",
      "KB_JB838_1889-04-26_01-00004.txt mentions these keywords: BELGE place, S’ad. rue, Agence Rossel, louer maison, place fille, demande bonne, S’adresser rue, DENTAIRE BELGE, rue Van, louer rue, rue Royale, rue Enseignement, rue Seutin, rue Verte...\n",
      "KB_JB838_1889-04-27_01-00004.txt mentions these keywords: DEHTftlRE RELGE, Systâiao sliut, Agence Rossel, rtn dem, sliut plt, LtCOlE DEHTftlRE, fille pari, MAISON CENTRALE, place bons...\n",
      "KB_JB838_1889-05-02_01-00004.txt mentions these keywords: pille dem, place fille, louer maison, OBJETS PERÇUE, Agence Rossel, rue Rogier, Rue Van, S’ad. rue, faire rue, rue jardin, ans dem....\n",
      "KB_JB838_1889-05-04_01-00004.txt mentions these keywords: Agence Rossel, OBJETS tftftDUS, fille quart, belle maison, Jolie maison, louer rue, place fille, MAISON CENTRALE...\n",
      "KB_JB838_1889-05-07_01-00001.txt mentions these keywords: EXEMPLAIRES distribués, tirage quotidien, l'agglomération bruxellois, distribués gratuitement, Révolution française, prince Baudouin, mot révolution, mais point, peuple français, révolution politique, province recevront...\n",
      "KB_JB838_1889-05-12_01-00008.txt mentions these keywords: louer maison, iioireélla Iêté, Iêté iliarquéo, louer jolie, louer belle, jolie maison, Belle maison, louer rue, maison rent, désire louer, grand jardin, Belles maisons, rue Jolly...\n",
      "KB_JB838_1889-05-13_01-00001.txt mentions these keywords: EXEMPLAIRES distribués, langue flamande, éIhh TfHAGB, TfHAGB QUOTIDIEN, dit Angèle, JOURNAL QUOTIDIEN, nouvelle caserne...\n",
      "KB_JB838_1889-05-13_01-00004.txt mentions these keywords: Agence Rossel, louer belle, rue Royale, rue Van, louer maison, homme dem, S’ad. agence, belle maison, louer grande...\n",
      "KB_JB838_1889-05-14_01-00001.txt mentions these keywords: TXBAGE QUOTIDIEN, QUOTIDIEN SOiOOO, agent secret, Tquf agent, fin agent, agent provocateur, jiroymëe recevront, OBSERVATOIRE ROYÀI, lés porsQnnes, agent pro, agent s.ëcvet, d’qP agent, agent reconnaîtra, agent sçcj'èt...\n",
      "KB_JB838_1889-05-17_01-00003.txt mentions these keywords: i.iî bouhgmksthk, bascules automatiques, Mlle Lucia, Société anonyme, Arsène Pétro, Bruxelles Véritable, fer russes, emprunts consolidés, BATIR rue, rue Fossé-aùx, rue Goffar-t, rue Crisar, société Sarlabot...\n",
      "KB_JB838_1889-05-18_01-00001.txt mentions these keywords: EXEMPLAIRES ôîstrüniés, ôîstrüniés gratuitsmsnt, gratuitsmsnt dan, JOURNAL OBSERVATOIRE, OBSERVATOIRE RQXAL, Mais Jeanne, Mme Moriani, l’aggïcméràtlon bruxelloise, province recevront, dans lés...\n",
      "KB_JB838_1889-05-19_01-00001.txt mentions these keywords: EXEMPLAIRES distribués, TIRAGE QUOTIDIEN, ANNÉE TIRAGE, distribués gratuitement, principaux établissements, Meeting public, JOURNAL QUOTIDIEN, mais qu’il, dos yeux, QUOTIDIEN GRATUIT, public dos...\n",
      "KB_JB838_1889-05-20_01-00002.txt mentions these keywords: seil provincial, provincial exclusivement, asile provincial, tour Eiffel, Guillaume Tell, citation d’un, d’un asile, général Boulanger, sitin.éaux aliénés, maison Krupp, liberté religieuse...\n",
      "KB_JB838_1889-05-27_01-00003.txt mentions these keywords: Notaire Grosemans, Notaire Van, Ledit notaire, belle maison, Notaire Ectors, Notaire Stroobant, Notaire Delwart, Notaire Muller, rue Jolly, rue Montoÿer...\n",
      "KB_JB838_1889-05-27_01-00004.txt mentions these keywords: ériv. pci, louer maison, rue Bon, rue Bosquet, rue Palais, chien riéir, louer jolie, louer polir, GRAND MAGASIN, sns dem, ÀÜIDON Dem, dés Mlriéb...\n",
      "KB_JB838_1889-05-28_01-00004.txt mentions these keywords: debts DENTISTE, fille quart, Agence Rossel, rue Defacqz, rue Françarl, leis ràbinçà, école PEimiBÉ, devoir ôtér, ôtér leis, place faire...\n",
      "KB_JB838_1889-06-03_01-00003.txt mentions these keywords: notaire Grosemans, adjugera définitivement, notaire DUBOST, Paris Grand, grand lac, Lord Lonsdale, Ledit notaire, FINANCIER Paris, grand jardin...\n",
      "KB_JB838_1889-06-06_01-00002.txt mentions these keywords: ètèvés dtnuB, dtnuB savante, grammes tfe, ministre dés, tfe diamant, demeurant rue, rue Keyenveld, dés travaux, dés enfants...\n",
      "KB_JB838_1889-06-07_01-00003.txt mentions these keywords: service personnel, rivière et'on, paîllettês d’or, paillettes d’or, Ernest Lefort, OOP Société, OOP Produits, JAQUETTE PACHA, géologue Soulavie, Soulavie mentionnent, Chassezac charriant...\n",
      "KB_JB838_1889-06-23_01-00004.txt mentions these keywords: Agence Rossel, jolie maison, louer rue, demande fille, dimanche bro'che, bro'che sca, rabé grenats, parles fines, S’ad. rue, demande bonne, demande servante...\n",
      "KB_JB838_1889-06-26_01-00004.txt mentions these keywords: BELRE OBJETS, TRAVAUX ARTISTIQUES, L’ÉCOLE DENTAIRE, DENTAIRE BELRE, àÉÉ REPARATIONS, REPARATIONS séance, ténânte TRAVAUX, pointer brun, séance ténânte, çhicn pointer, erdu çhicn...\n",
      "KB_JB838_1889-07-04_01-00001.txt mentions these keywords: qu’il faut, conseil communal, fit Marin...\n",
      "KB_JB838_1889-07-09_01-00004.txt mentions these keywords: OBJETS PERDUS, jolie maison, Agence Rossel, demande place, belle maison, faire maison, louer rue, gare Nord, faire dem...\n",
      "KB_JB838_1889-07-19_01-00003.txt mentions these keywords: lés Bruxelles, OOP Flandre, OOP Société, OOP Yerviors, OOP Uauts-iourn, OOP Carrières, OOP Léonard, grandes bouteilles, OOP Gand-Terneuzen, OOP Liége-Namur, professeur Talb, BANQUE NATIONALE...\n",
      "KB_JB838_1889-07-22_01-00003.txt mentions these keywords: maison rue, Notaire Van, Bruxelles rue, rue Bruxelles, rue Van, rue Royale, Notaire Eloy, Notaire Delwart...\n",
      "KB_JB838_1889-07-22_01-00004.txt mentions these keywords: Agence Rossel, louer maison, rue Royale, grand jardin, louer rue, BRUXELLES Etude, Belle maison, Bruxelles VENTE, notaire Grosemàns, fin dem...\n",
      "KB_JB838_1889-07-24_01-00003.txt mentions these keywords: louer maison, Rpmiaer Leg., lei-s d’étatn, déjà entajtnées, d’étatn déjà, rue Royale, Petite Suisse, OOP Flandre, maison mortuaire, Jui ànç, OOP Charbonnagtt...\n",
      "KB_JB838_1889-07-25_01-00004.txt mentions these keywords: louer maison, éhts iés, jpiûs càrfîiltél, iés jpiûs, louer bel, propre dem, fin demande, Agence Rosscl, fin dem, PERDU StteS'i, Agencé Rbssel...\n",
      "KB_JB838_1889-07-31_01-00003.txt mentions these keywords: tionoér Àuandl, déshabiller Vijler, Mme Handford, Lopez Jordan, OOP Flandre, OOP Charbonnages, Mme Deveson, OOF Ville, OOA Banque, c’est l’âne, OOF Actions, OOA Produits, OOA Cockerill, OOP Bruges, OOP Verviers, OOP Samb., OOP Wagons-lits, OOP Carrières, OOP Société, OOF Caisse...\n",
      "KB_JB838_1889-08-01_01-00002.txt mentions these keywords: gros nez, nommé juge, Prix Annette, grand prix, élections générales...\n",
      "KB_JB838_1889-08-06_01-00003.txt mentions these keywords: bois sculpté, haut cours, Société Decauville, grande fermeté, êtes prévenu...\n",
      "KB_JB838_1889-08-11_01-00003.txt mentions these keywords: belle maison, MAISON rue, porte cochère, d’une belle, UNI MAISON, RENTIER rue, grande maison, uotairo Bette, VENTE PUBLIQUE, BAUME PECTORAL, BELLE PRAIRIE, maison contiguë, jardin d’agrément, COCHÈRE rue...\n",
      "KB_JB838_1889-08-19_01-00004.txt mentions these keywords: vendre maison, louer maison, Jolie maison, rue Royale, rue d’Isabelle, Jardin Botanique, louer rué, Mlle CAROLINE, CAROLINE SOUWEINE, louer prix, louer appart, belles maisons, belle maison...\n",
      "KB_JB838_1889-08-25_01-00001.txt mentions these keywords: roi Milan, TIRAGE ANNEE, Palais Royal, jeune âme, qu’il faut, distribués gratuiteihênt, les'principaux établissements, tonte l'agglomération, l'agglomération bruxelloise, OBSERVATOIRE ROYAL, nouvelles âmes...\n",
      "KB_JB838_1889-08-25_01-00004.txt mentions these keywords: OBJETS mou, louer maison, Belle maison, louer belle, louer appart., Agence Rossel, jne fille, vendre prix...\n",
      "KB_JB838_1889-08-29_01-00001.txt mentions these keywords: Mme Favoral, grand hall, EXEMPLAIRES distribués, Lés femmes, OBSERVATOIRE ROYAL, UIT OBSERVATOIRE, Parc Léopold, dit qu’il, dii Parc, grands halls...\n",
      "KB_JB838_1889-08-29_01-00003.txt mentions these keywords: OOP Bruxellesà, OOP Sociêlé, OOP Charbonnages', OOF UITZET, OOF Changes, Bruxelles Banque, rue Haute, SOP Bruges, lOt OOP, OOA Crédit, OOF Immobil.de, OOF Prbvidencé, Bruxelles Adjudication, GRÉTRY BRUXELLES, rue Rübens...\n",
      "KB_JB838_1889-08-30_01-00004.txt mentions these keywords: demande place, louer rue, Agence Rossel, demande servante, Jolie maison, dem. place, S’ad.Agence Rossel, louer maison, eune fille, jne fille, grande maison, flamande dem, louer belle, faire rue...\n",
      "KB_JB838_1889-09-04_01-00001.txt mentions these keywords: ANIMEE Mercredi, QUOTIDIEN EXEMPLAIRES, EXEMPLAIRES distribués, distribués gratuitement, l'agglomération bruxelloise, principaux établissements, Mllo Gilberte, capitaine Braconnier, petite Mme, province recevront...\n",
      "KB_JB838_1889-09-05_01-00004.txt mentions these keywords: PIÊCES DENTAIRES, ÉtiMttHliMMHÉAÉlttàiB Mtttf, Mtttf MüÜtfÉÉ, MüÜtfÉÉ DENTIERS, TdUTËS PIÊCES, PiMYilli arimaf, arimaf SmUfiSSmê, teMUMrinMMMM MrffiUÉAMMriÉiiaM, MrffiUÉAMMriÉiiaM ÉtiMttHliMMHÉAÉlttàiB, Agence Rossei, louer appart...\n",
      "KB_JB838_1889-09-07_01-00003.txt mentions these keywords: rue Haute, septembre Consulats, tiendront garnison, ligne tiendront, rue Royale, OOP Ville, OOP Flandre, sne Moniteur, OOP Samb, OOP Nationale, OOP Charbonnages, bataillons actifs...\n",
      "KB_JB838_1889-09-09_01-00002.txt mentions these keywords: offre l’avantage, l’administration communale, baron Vander, général Vander, baron Greindl, Vander Smissen, Vander Straten, Vander Smis, prince Baudouin, major baron...\n",
      "KB_JB838_1889-09-11_01-00002.txt mentions these keywords: général baron, Garde républicaine, général Siersaeck, général Streitz, CATASTROPHE D’ANVERS...\n",
      "KB_JB838_1889-09-15_01-00003.txt mentions these keywords: OBJETS FERDPS, louer maison, daHalnaut.le Tsoir, louer rue, Agence Rossel, jolie maison, rue Van, demande place, Grande maison, rue Bosquet, S’ad. rue, maison rentier, Nord rue, smsmt mmmfi, sue bague, tiquai daHalnaut.le...\n",
      "KB_JB838_1889-09-21_01-00003.txt mentions these keywords: bicssttres heureusement, OOP Flandre, rue Royale, ans gravité, OOA Banque, époux Delaigue, rue Van, OoA Liège, OOA Cockerill, OOP Cljarbon, OOP Muuc., OOP Ùégè-îlamùr, OOP Samb., OOP Fab, OOP Charbotimgee, OOF Namur, OOf Hâuù-fiiurn, OOF Cristal, OOF ETAT-CIVIL, OOF Imm, OOF Sarrebruçk, OOF Thy-le, OOF Ams'erdam, OOF Austro, OOF Chevalières, tour Eiffel...\n",
      "KB_JB838_1889-09-24_01-00003.txt mentions these keywords: Van Looy, Victorieuse Van, dernier lieu, unions professionnelles, dés unions, South Kerisinston, Glocestor Mansion, Mme Weldon, valeurs argentines...\n",
      "KB_JB838_1889-10-07_01-00002.txt mentions these keywords: Mme Heyworth, Dumas père, Mlle Lerou, dit comité...\n",
      "KB_JB838_1889-10-10_01-00004.txt mentions these keywords: S’ad. rue, désire place, rue Pachéco, faire quart, bons certificats, RUE VAN, remme demande, bonnes référ...\n",
      "KB_JB838_1889-10-14_01-00001.txt mentions these keywords: révision inexorable, faire coucher, petits bruits, Conseil dans, gratuitement dan...\n",
      "KB_JB838_1889-10-19_01-00001.txt mentions these keywords: ANNEE TIRAGE, TIRAGE quoudien, EXEMPLAIRES distribués, ggloinératlon bruxellois, distribués gratuitement, Iss SUgM, province Recevront, Mlle Lucienne, jeune fille, principaux établissements, Georges Eekhoud, JOURNAL QUOTIDIEN, OBSERVATOIRE ROYAI...\n",
      "KB_JB838_1889-10-19_01-00004.txt mentions these keywords: CRËDIT PEPÜIS, maison fermée, désire place, rue Gastro, maison Rtièr, Maison Cèritrale, maison Ugarnle, RUE VAN...\n",
      "KB_JB838_1889-10-21_01-00002.txt mentions these keywords: Vierge Noire, qu’il d’une, qu’il s’est, c’est qu’il, dit qu’il, Don Carlos, l’opinion qu’il, Portugal Lisbonne, Paris raison, qu’il aurait...\n",
      "KB_JB838_1889-10-24_01-00003.txt mentions these keywords: mmÈÈmÊaÈÊbËh î-éboutemresfcaTaR, î-éboutemresfcaTaR fermé, fermé jteàteè, rue Pachéco, PERLES SALVATOR, OOP Flandre, OOP Charbon, OOP Produits, OOP Bruxellesâ, OOP Carrière, OOP Forges, OOP Cttemins, Rue Royale, Fabrique rue...\n",
      "KB_JB838_1889-10-28_01-00003.txt mentions these keywords: maisons rue, rue Haute, Notaire Van, Notaire Cantoni, Rue Royale, maison chaussée, rue Pachéco, MAISONS LIQUIDATION, BONNES MAISONS, rue Lesbroussart, Uné maison, ounU ordre...\n",
      "KB_JB838_1889-10-30_01-00003.txt mentions these keywords: entrepôts Ÿqisips, Ÿqisips contenant, RUE NEUVE, OOP Gand, cjjÿj inôn, fcaBxsxacExaEaaæsascs CBCBBa, imtnédiateraént oirconscrit, eiÿerft maitrpdu, CBCBBa casSSgSEEatEa, OOP Charleroi, OOP Zinc, OOP Société, rue Grétrÿ, rue Camusel, rue Zinner, rue Haute, Delbaere rue, rue Bodéghem, rue Vari, petite rue, rues Enseignement...\n",
      "KB_JB838_1889-11-02_01-00006.txt mentions these keywords: Anvers DENTS, RENTIER rue, D’UNE MAISON, BELLE MAISON, maisons rue, PERLES SALVATOR, JOLIE MAISON, distinction Anvers, RESSORTS JbiUime, obtenu Jes, Jes fêlicltationsdu, fêlicltationsdu Roi.des, Roi.des Belges...\n",
      "KB_JB838_1889-11-06_01-00004.txt mentions these keywords: MJTS rnm, erdu épingle, demandé fille, demande place, S’ad. rue, faire sachant, Bonnes référ, jolie maison...\n",
      "KB_JB838_1889-11-14_01-00002.txt mentions these keywords: âhnées'do qgve, vins servis, Tom Cannon, Ÿéise Kaiser, pompiers volontaires, faire connaître...\n",
      "KB_JB838_1889-11-22_01-00003.txt mentions these keywords: Marie Oàouze, OOP Banque, Marie Pabiize, OOP Flandre, Halles BRUXELLES, OOP Brhges, OOP Monc., OOP Samb., OOP Wagons-lits, OOP Prodiiits, RUE NEUVE, Richard s’est, Oàouze quivprotestait, aperçut Richard, Richard étendu, montrant Marie, OOP Anvers-Gand...\n",
      "KB_JB838_1889-11-23_01-00001.txt mentions these keywords: l’hygiène publique, TIRAGE QUOTIDIEN, journal Quotidien, ESÇ Soleil, midi Température, matin Température, Température maximum, Victor Chupin, Quotidien gratuit...\n",
      "KB_JB838_1889-11-28_01-00002.txt mentions these keywords: comte Herbert, Mme Georges, cravate seulement, Mme van, Mme Victor, Mme Sarah, Mme Léon, Mme Emile, Mme Edouard, Mme Graux, Mme Léo, Mme Félix, Mme Robert, Mme Ferdl, Mme Alfred, Mme Idôs, Mme Zélie, Mme Gëvaert, Mme Camille, colonel honoraire, Van Hoegaerden, van Hoobroek, Mme Charles...\n",
      "KB_JB838_1889-12-03_01-00001.txt mentions these keywords: ANNEE Mardi, TIRAGE QTJOTIDt, EXEMPLAIRES distribués, Mardi Décembre, distribués gratuitement, lèâ pMiicifiiiuk, pMiicifiiiuk établissements, voyage aller, petite carte, carte d’une, l'agglomératîoa bruxelloise...\n",
      "KB_JB838_1889-12-05_01-00002.txt mentions these keywords: vent faire, Mlle Larcher, Bruxelles s’eat, théâtre n’est, Mlle Marie...\n",
      "KB_JB838_1889-12-05_01-00003.txt mentions these keywords: rue Neuve, tylpahle procès, Grand choix, rue Henri, rue Van, rue Froissnrt, Paris Maison, rue Traversière, rue Maiibr, rue Bas, Rue Royale, Comte Raymond, grande maison...\n",
      "KB_JB838_1889-12-10_01-00001.txt mentions these keywords: TIRAGE QUOTIDIEN, ANNEE TIRAGE, FUIBES distribués, distribués gratuitement, l'agglomération bruxodoise, prlacipaus établissements, l’Empire britannique, France tient, grande distance, Mlle Larcher, puis viennent...\n",
      "KB_JB838_1889-12-11_01-00003.txt mentions these keywords: Mmë Màbkayylariche, OOP Baiiquede, OOP Mirdnetla, Manchester Examiner, 4-788 OOP, OOP CourçellM-iîprd, OOP b'iândre, dés plus, grand théâtre, rue Hey, rue Btirit...\n",
      "KB_JB838_1889-12-12_01-00002.txt mentions these keywords: Perriclion roublard, d’un coup...\n",
      "KB_JB838_1889-12-13_01-00003.txt mentions these keywords: Vol audacjrux, OOP Flandre, rue Royale, OOP Société'général, OOP Hauts-f, OOP Baiique, OOP Brescia, OOP Réunis, iin vol, coin rue, Vôc.iuié hùilaeë...\n",
      "KB_JB838_1889-12-14_01-00001.txt mentions these keywords: TIRAGE QUOTIDIEN, distribués gratuitement, Félicien Rops, Claude Sergent, d’un Mil, JOURNAL QUOTIDIEN, QUOTIDIEN GRATUIT, Tour Eiffel, province recevront, dit Claude, Cercle artistique, d’un critique...\n",
      "KB_JB838_1889-12-17_01-00004.txt mentions these keywords: VÀIL âRt, Jardin Botanique, Bruxelles recevra, D'OR PARIS, jeune fille, Bruxelles boulevard...\n",
      "KB_JB838_1889-12-31_01-00004.txt mentions these keywords: bonne servante, maison rue, Grand choix, rue Eveis, rue Rogier, louer maison, maison fermée, rue Bôèquet., demande fille, rue Linpéo, rue I.iunéü, Rue Américaines, rue Pletirictx...\n"
     ]
    }
   ],
   "source": [
    "\n",
    "#Ne garder que les bigrammes pour l'année 1889\n",
    "for f in sorted(files_1889):\n",
    "    text = open(os.path.join(data_path, f), 'r', encoding=\"utf-8\").read()\n",
    "    keywords = kw_extractor.extract_keywords(text)\n",
    "    kept = []\n",
    "    for kw, score in keywords:\n",
    "        words = kw.split()\n",
    "        if len(words) == 2:\n",
    "            kept.append(kw)\n",
    "    print(f\"{f} mentions these keywords: {', '.join(kept)}...\")"
   ]
  }
 ],
 "metadata": {
  "kernelspec": {
   "display_name": "Python 3",
   "language": "python",
   "name": "python3"
  },
  "language_info": {
   "codemirror_mode": {
    "name": "ipython",
    "version": 3
   },
   "file_extension": ".py",
   "mimetype": "text/x-python",
   "name": "python",
   "nbconvert_exporter": "python",
   "pygments_lexer": "ipython3",
   "version": "3.11.9"
  }
 },
 "nbformat": 4,
 "nbformat_minor": 4
}
