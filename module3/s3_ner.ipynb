{
 "cells": [
  {
   "cell_type": "markdown",
   "metadata": {},
   "source": [
    "# Reconnaissance d'entités nommées avec SpaCy"
   ]
  },
  {
   "cell_type": "markdown",
   "metadata": {},
   "source": [
    "La documentation est accessible ici: https://spacy.io/api"
   ]
  },
  {
   "cell_type": "markdown",
   "metadata": {},
   "source": [
    "## Imports"
   ]
  },
  {
   "cell_type": "code",
   "execution_count": 2,
   "metadata": {},
   "outputs": [
    {
     "name": "stdout",
     "output_type": "stream",
     "text": [
      "Collecting fr-core-news-md==3.8.0\n",
      "  Downloading https://github.com/explosion/spacy-models/releases/download/fr_core_news_md-3.8.0/fr_core_news_md-3.8.0-py3-none-any.whl (45.8 MB)\n",
      "     ---------------------------------------- 0.0/45.8 MB ? eta -:--:--\n",
      "     ---------------------------------------- 0.0/45.8 MB ? eta -:--:--\n",
      "     ---------------------------------------- 0.0/45.8 MB ? eta -:--:--\n",
      "     ---------------------------------------- 0.0/45.8 MB ? eta -:--:--\n",
      "     --------------------------------------- 0.0/45.8 MB 163.8 kB/s eta 0:04:40\n",
      "     --------------------------------------- 0.0/45.8 MB 178.6 kB/s eta 0:04:17\n",
      "     --------------------------------------- 0.2/45.8 MB 888.4 kB/s eta 0:00:52\n",
      "      --------------------------------------- 0.7/45.8 MB 2.6 MB/s eta 0:00:18\n",
      "     - -------------------------------------- 1.2/45.8 MB 3.8 MB/s eta 0:00:12\n",
      "     - -------------------------------------- 1.8/45.8 MB 4.9 MB/s eta 0:00:10\n",
      "     -- ------------------------------------- 2.5/45.8 MB 5.9 MB/s eta 0:00:08\n",
      "     -- ------------------------------------- 3.2/45.8 MB 6.8 MB/s eta 0:00:07\n",
      "     --- ------------------------------------ 3.9/45.8 MB 7.6 MB/s eta 0:00:06\n",
      "     ---- ----------------------------------- 4.7/45.8 MB 8.3 MB/s eta 0:00:05\n",
      "     ---- ----------------------------------- 5.5/45.8 MB 9.1 MB/s eta 0:00:05\n",
      "     ----- ---------------------------------- 6.4/45.8 MB 10.0 MB/s eta 0:00:04\n",
      "     ------ --------------------------------- 7.3/45.8 MB 10.4 MB/s eta 0:00:04\n",
      "     ------- -------------------------------- 8.3/45.8 MB 11.1 MB/s eta 0:00:04\n",
      "     ------- -------------------------------- 9.1/45.8 MB 11.6 MB/s eta 0:00:04\n",
      "     -------- ------------------------------- 9.8/45.8 MB 11.6 MB/s eta 0:00:04\n",
      "     --------- ----------------------------- 10.6/45.8 MB 16.4 MB/s eta 0:00:03\n",
      "     --------- ----------------------------- 11.4/45.8 MB 16.4 MB/s eta 0:00:03\n",
      "     ---------- ---------------------------- 12.2/45.8 MB 17.2 MB/s eta 0:00:02\n",
      "     ----------- --------------------------- 13.2/45.8 MB 18.2 MB/s eta 0:00:02\n",
      "     ------------ -------------------------- 14.1/45.8 MB 18.7 MB/s eta 0:00:02\n",
      "     ------------ -------------------------- 15.1/45.8 MB 18.7 MB/s eta 0:00:02\n",
      "     ------------- ------------------------- 16.2/45.8 MB 19.2 MB/s eta 0:00:02\n",
      "     -------------- ------------------------ 17.4/45.8 MB 19.8 MB/s eta 0:00:02\n",
      "     --------------- ----------------------- 18.6/45.8 MB 19.8 MB/s eta 0:00:02\n",
      "     ---------------- ---------------------- 19.8/45.8 MB 20.5 MB/s eta 0:00:02\n",
      "     ----------------- --------------------- 20.8/45.8 MB 22.6 MB/s eta 0:00:02\n",
      "     ------------------ -------------------- 21.8/45.8 MB 21.8 MB/s eta 0:00:02\n",
      "     ------------------- ------------------- 22.7/45.8 MB 22.6 MB/s eta 0:00:02\n",
      "     -------------------- ------------------ 23.7/45.8 MB 22.6 MB/s eta 0:00:01\n",
      "     -------------------- ------------------ 24.7/45.8 MB 22.6 MB/s eta 0:00:01\n",
      "     --------------------- ----------------- 25.8/45.8 MB 23.4 MB/s eta 0:00:01\n",
      "     ---------------------- ---------------- 26.8/45.8 MB 23.4 MB/s eta 0:00:01\n",
      "     ----------------------- --------------- 28.0/45.8 MB 22.6 MB/s eta 0:00:01\n",
      "     ------------------------ -------------- 29.2/45.8 MB 22.6 MB/s eta 0:00:01\n",
      "     ------------------------- ------------- 30.3/45.8 MB 23.4 MB/s eta 0:00:01\n",
      "     -------------------------- ------------ 31.6/45.8 MB 23.4 MB/s eta 0:00:01\n",
      "     ---------------------------- ---------- 33.0/45.8 MB 25.2 MB/s eta 0:00:01\n",
      "     ----------------------------- --------- 34.4/45.8 MB 26.2 MB/s eta 0:00:01\n",
      "     ------------------------------ -------- 35.9/45.8 MB 27.3 MB/s eta 0:00:01\n",
      "     ------------------------------- ------- 37.4/45.8 MB 28.5 MB/s eta 0:00:01\n",
      "     --------------------------------- ----- 39.0/45.8 MB 29.8 MB/s eta 0:00:01\n",
      "     ---------------------------------- ---- 40.6/45.8 MB 32.8 MB/s eta 0:00:01\n",
      "     ----------------------------------- --- 42.3/45.8 MB 32.7 MB/s eta 0:00:01\n",
      "     ------------------------------------- - 43.7/45.8 MB 34.4 MB/s eta 0:00:01\n",
      "     --------------------------------------  44.8/45.8 MB 32.7 MB/s eta 0:00:01\n",
      "     --------------------------------------  45.8/45.8 MB 31.2 MB/s eta 0:00:01\n",
      "     --------------------------------------  45.8/45.8 MB 31.2 MB/s eta 0:00:01\n",
      "     --------------------------------------- 45.8/45.8 MB 24.3 MB/s eta 0:00:00\n",
      "\u001b[38;5;2m✔ Download and installation successful\u001b[0m\n",
      "You can now load the package via spacy.load('fr_core_news_md')\n"
     ]
    },
    {
     "name": "stderr",
     "output_type": "stream",
     "text": [
      "\n",
      "[notice] A new release of pip is available: 24.0 -> 25.3\n",
      "[notice] To update, run: C:\\Users\\Admin\\AppData\\Local\\Microsoft\\WindowsApps\\PythonSoftwareFoundation.Python.3.11_qbz5n2kfra8p0\\python.exe -m pip install --upgrade pip\n"
     ]
    }
   ],
   "source": [
    "from collections import defaultdict\n",
    "import spacy\n",
    "from spacy.lang.fr.examples import sentences\n",
    "!python -m spacy download fr_core_news_md"
   ]
  },
  {
   "cell_type": "code",
   "execution_count": 3,
   "metadata": {},
   "outputs": [],
   "source": [
    "nlp = spacy.load('fr_core_news_md')"
   ]
  },
  {
   "cell_type": "markdown",
   "metadata": {},
   "source": [
    "## Exemple sur un corpus de test fourni par SpaCy"
   ]
  },
  {
   "cell_type": "code",
   "execution_count": 4,
   "metadata": {},
   "outputs": [
    {
     "data": {
      "text/plain": [
       "['Apple cherche à acheter une start-up anglaise pour 1 milliard de dollars',\n",
       " \"Les voitures autonomes déplacent la responsabilité de l'assurance vers les constructeurs\",\n",
       " \"San Francisco envisage d'interdire les robots coursiers sur les trottoirs\",\n",
       " 'Londres est une grande ville du Royaume-Uni',\n",
       " 'L’Italie choisit ArcelorMittal pour reprendre la plus grande aciérie d’Europe',\n",
       " \"Apple lance HomePod parce qu'il se sent menacé par l'Echo d'Amazon\",\n",
       " \"La France ne devrait pas manquer d'électricité cet été, même en cas de canicule\",\n",
       " 'Nouvelles attaques de Trump contre le maire de Londres',\n",
       " 'Où es-tu ?',\n",
       " 'Qui est le président de la France ?',\n",
       " 'Où est la capitale des États-Unis ?',\n",
       " 'Quand est né Barack Obama ?']"
      ]
     },
     "execution_count": 4,
     "metadata": {},
     "output_type": "execute_result"
    }
   ],
   "source": [
    "# Imprimer le corpus de Spacy\n",
    "sentences"
   ]
  },
  {
   "cell_type": "code",
   "execution_count": 5,
   "metadata": {},
   "outputs": [
    {
     "data": {
      "text/plain": [
       "'Apple cherche à acheter une start-up anglaise pour 1 milliard de dollars'"
      ]
     },
     "execution_count": 5,
     "metadata": {},
     "output_type": "execute_result"
    }
   ],
   "source": [
    "# Isoler la première phrase\n",
    "sent = sentences[0]\n",
    "sent"
   ]
  },
  {
   "cell_type": "code",
   "execution_count": 6,
   "metadata": {},
   "outputs": [],
   "source": [
    "# Traiter la phrase avec Spacy\n",
    "doc = nlp(sent)"
   ]
  },
  {
   "cell_type": "code",
   "execution_count": 7,
   "metadata": {},
   "outputs": [
    {
     "data": {
      "text/plain": [
       "spacy.tokens.doc.Doc"
      ]
     },
     "execution_count": 7,
     "metadata": {},
     "output_type": "execute_result"
    }
   ],
   "source": [
    "type(doc)"
   ]
  },
  {
   "cell_type": "code",
   "execution_count": 8,
   "metadata": {},
   "outputs": [
    {
     "data": {
      "text/plain": [
       "'Apple cherche à acheter une start-up anglaise pour 1 milliard de dollars'"
      ]
     },
     "execution_count": 8,
     "metadata": {},
     "output_type": "execute_result"
    }
   ],
   "source": [
    "doc.text"
   ]
  },
  {
   "cell_type": "code",
   "execution_count": 9,
   "metadata": {},
   "outputs": [
    {
     "data": {
      "text/plain": [
       "{'text': 'Apple cherche à acheter une start-up anglaise pour 1 milliard de dollars',\n",
       " 'ents': [{'start': 0, 'end': 5, 'label': 'ORG'}],\n",
       " 'sents': [{'start': 0, 'end': 72}],\n",
       " 'tokens': [{'id': 0,\n",
       "   'start': 0,\n",
       "   'end': 5,\n",
       "   'tag': 'PROPN',\n",
       "   'pos': 'PROPN',\n",
       "   'morph': 'Gender=Masc|Number=Sing',\n",
       "   'lemma': 'Apple',\n",
       "   'dep': 'nsubj',\n",
       "   'head': 1},\n",
       "  {'id': 1,\n",
       "   'start': 6,\n",
       "   'end': 13,\n",
       "   'tag': 'VERB',\n",
       "   'pos': 'VERB',\n",
       "   'morph': 'Mood=Ind|Number=Sing|Person=3|Tense=Pres|VerbForm=Fin',\n",
       "   'lemma': 'cherche',\n",
       "   'dep': 'ROOT',\n",
       "   'head': 1},\n",
       "  {'id': 2,\n",
       "   'start': 14,\n",
       "   'end': 15,\n",
       "   'tag': 'ADP',\n",
       "   'pos': 'ADP',\n",
       "   'morph': '',\n",
       "   'lemma': 'à',\n",
       "   'dep': 'mark',\n",
       "   'head': 3},\n",
       "  {'id': 3,\n",
       "   'start': 16,\n",
       "   'end': 23,\n",
       "   'tag': 'VERB',\n",
       "   'pos': 'VERB',\n",
       "   'morph': 'VerbForm=Inf',\n",
       "   'lemma': 'acheter',\n",
       "   'dep': 'xcomp',\n",
       "   'head': 1},\n",
       "  {'id': 4,\n",
       "   'start': 24,\n",
       "   'end': 27,\n",
       "   'tag': 'DET',\n",
       "   'pos': 'DET',\n",
       "   'morph': 'Definite=Ind|Gender=Fem|Number=Sing|PronType=Art',\n",
       "   'lemma': 'un',\n",
       "   'dep': 'det',\n",
       "   'head': 5},\n",
       "  {'id': 5,\n",
       "   'start': 28,\n",
       "   'end': 33,\n",
       "   'tag': 'NOUN',\n",
       "   'pos': 'NOUN',\n",
       "   'morph': 'Gender=Fem|Number=Sing',\n",
       "   'lemma': 'start',\n",
       "   'dep': 'obj',\n",
       "   'head': 3},\n",
       "  {'id': 6,\n",
       "   'start': 33,\n",
       "   'end': 34,\n",
       "   'tag': 'PROPN',\n",
       "   'pos': 'PROPN',\n",
       "   'morph': '',\n",
       "   'lemma': '-',\n",
       "   'dep': 'obl:arg',\n",
       "   'head': 3},\n",
       "  {'id': 7,\n",
       "   'start': 34,\n",
       "   'end': 36,\n",
       "   'tag': 'X',\n",
       "   'pos': 'X',\n",
       "   'morph': '',\n",
       "   'lemma': 'up',\n",
       "   'dep': 'obl:arg',\n",
       "   'head': 3},\n",
       "  {'id': 8,\n",
       "   'start': 37,\n",
       "   'end': 45,\n",
       "   'tag': 'ADJ',\n",
       "   'pos': 'ADJ',\n",
       "   'morph': 'Gender=Fem|Number=Sing',\n",
       "   'lemma': 'anglais',\n",
       "   'dep': 'obj',\n",
       "   'head': 3},\n",
       "  {'id': 9,\n",
       "   'start': 46,\n",
       "   'end': 50,\n",
       "   'tag': 'ADP',\n",
       "   'pos': 'ADP',\n",
       "   'morph': '',\n",
       "   'lemma': 'pour',\n",
       "   'dep': 'case',\n",
       "   'head': 11},\n",
       "  {'id': 10,\n",
       "   'start': 51,\n",
       "   'end': 52,\n",
       "   'tag': 'NUM',\n",
       "   'pos': 'NUM',\n",
       "   'morph': 'NumType=Card',\n",
       "   'lemma': '1',\n",
       "   'dep': 'nummod',\n",
       "   'head': 11},\n",
       "  {'id': 11,\n",
       "   'start': 53,\n",
       "   'end': 61,\n",
       "   'tag': 'NOUN',\n",
       "   'pos': 'NOUN',\n",
       "   'morph': 'Gender=Masc|NumType=Card|Number=Sing',\n",
       "   'lemma': 'milliard',\n",
       "   'dep': 'obl:mod',\n",
       "   'head': 3},\n",
       "  {'id': 12,\n",
       "   'start': 62,\n",
       "   'end': 64,\n",
       "   'tag': 'ADP',\n",
       "   'pos': 'ADP',\n",
       "   'morph': '',\n",
       "   'lemma': 'de',\n",
       "   'dep': 'case',\n",
       "   'head': 13},\n",
       "  {'id': 13,\n",
       "   'start': 65,\n",
       "   'end': 72,\n",
       "   'tag': 'NOUN',\n",
       "   'pos': 'NOUN',\n",
       "   'morph': 'Gender=Masc|Number=Plur',\n",
       "   'lemma': 'dollar',\n",
       "   'dep': 'nmod',\n",
       "   'head': 11}]}"
      ]
     },
     "execution_count": 9,
     "metadata": {},
     "output_type": "execute_result"
    }
   ],
   "source": [
    "doc.to_json()"
   ]
  },
  {
   "cell_type": "code",
   "execution_count": 10,
   "metadata": {},
   "outputs": [
    {
     "name": "stdout",
     "output_type": "stream",
     "text": [
      "'Apple cherche à acheter une start-up anglaise pour 1 milliard de dollars' contient les entités suivantes : Apple (ORG)\n",
      "'Les voitures autonomes déplacent la responsabilité de l'assurance vers les constructeurs' ne contient aucune entité\n",
      "'San Francisco envisage d'interdire les robots coursiers sur les trottoirs' contient les entités suivantes : San Francisco (LOC)\n",
      "'Londres est une grande ville du Royaume-Uni' contient les entités suivantes : Londres (LOC), Royaume-Uni (LOC)\n",
      "'L’Italie choisit ArcelorMittal pour reprendre la plus grande aciérie d’Europe' contient les entités suivantes : L’Italie (LOC), ArcelorMittal (ORG), Europe (LOC)\n",
      "'Apple lance HomePod parce qu'il se sent menacé par l'Echo d'Amazon' contient les entités suivantes : Apple (ORG), HomePod (MISC), Echo (ORG), Amazon (ORG)\n",
      "'La France ne devrait pas manquer d'électricité cet été, même en cas de canicule' contient les entités suivantes : La France (LOC)\n",
      "'Nouvelles attaques de Trump contre le maire de Londres' contient les entités suivantes : Nouvelles attaques de (MISC), Trump (PER), Londres (LOC)\n",
      "'Où es-tu ?' ne contient aucune entité\n",
      "'Qui est le président de la France ?' contient les entités suivantes : la France (LOC)\n",
      "'Où est la capitale des États-Unis ?' contient les entités suivantes : États-Unis (LOC)\n",
      "'Quand est né Barack Obama ?' contient les entités suivantes : Barack Obama (PER)\n"
     ]
    }
   ],
   "source": [
    "# Appliquer le test sur toutes les phrases\n",
    "for sent in sentences:\n",
    "    doc = nlp(sent)\n",
    "    entities = []\n",
    "    for ent in doc.ents:\n",
    "        entities.append(f\"{ent.text} ({ent.label_})\")\n",
    "    if entities:\n",
    "        print(f\"'{doc.text}' contient les entités suivantes : {', '.join(entities)}\")\n",
    "    else:\n",
    "        print(f\"'{doc.text}' ne contient aucune entité\")"
   ]
  },
  {
   "cell_type": "markdown",
   "metadata": {},
   "source": [
    "## Appliquer la reconnaissance d'entités nommées sur notre corpus"
   ]
  },
  {
   "cell_type": "code",
   "execution_count": 12,
   "metadata": {},
   "outputs": [],
   "source": [
    "# Charger le texte\n",
    "n=1000000\n",
    "text = open(\"../data/tmp/1926.txt\", encoding='utf-8').read()[:n]"
   ]
  },
  {
   "cell_type": "code",
   "execution_count": 13,
   "metadata": {},
   "outputs": [
    {
     "name": "stdout",
     "output_type": "stream",
     "text": [
      "CPU times: total: 36.2 s\n",
      "Wall time: 36.6 s\n"
     ]
    }
   ],
   "source": [
    "%%time\n",
    "# Traiter le texte\n",
    "\n",
    "doc = nlp(text)"
   ]
  },
  {
   "cell_type": "code",
   "execution_count": 14,
   "metadata": {},
   "outputs": [],
   "source": [
    "# Compter les entités\n",
    "people = defaultdict(int)\n",
    "for ent in doc.ents:\n",
    "    if ent.label_ == \"PER\" and len(ent.text) > 3:\n",
    "        people[ent.text] += 1"
   ]
  },
  {
   "cell_type": "code",
   "execution_count": 15,
   "metadata": {},
   "outputs": [
    {
     "name": "stdout",
     "output_type": "stream",
     "text": [
      "Rossel apparait 73 fois dans le corpus\n",
      "Agence Rossel apparait 26 fois dans le corpus\n",
      "Louise apparait 25 fois dans le corpus\n",
      "Jeanne apparait 14 fois dans le corpus\n",
      "Reine apparait 13 fois dans le corpus\n",
      "Ledit apparait 9 fois dans le corpus\n",
      "Turq apparait 9 fois dans le corpus\n",
      "Anonyme apparait 9 fois dans le corpus\n",
      "Salle apparait 9 fois dans le corpus\n",
      "Molière apparait 9 fois dans le corpus\n",
      "Agence Bossel apparait 9 fois dans le corpus\n",
      "Soviets apparait 8 fois dans le corpus\n",
      "repr apparait 8 fois dans le corpus\n",
      "Président apparait 7 fois dans le corpus\n",
      "Créd apparait 7 fois dans le corpus\n",
      "Kérallan apparait 6 fois dans le corpus\n",
      "Marthe apparait 6 fois dans le corpus\n",
      "Brugmann apparait 6 fois dans le corpus\n",
      "M. Briand apparait 6 fois dans le corpus\n",
      "Mutuel apparait 6 fois dans le corpus\n",
      "trav apparait 6 fois dans le corpus\n",
      "L. DUCHENE 78 apparait 6 fois dans le corpus\n",
      "Aristophane apparait 5 fois dans le corpus\n",
      "M. Despret apparait 5 fois dans le corpus\n",
      "VAN BENEDEN apparait 5 fois dans le corpus\n",
      "Bailli apparait 4 fois dans le corpus\n",
      "Mérode apparait 4 fois dans le corpus\n",
      "Yvon de Kérallan apparait 4 fois dans le corpus\n",
      "Maman apparait 4 fois dans le corpus\n",
      "Belg apparait 4 fois dans le corpus\n",
      "Allard apparait 4 fois dans le corpus\n",
      "Klect apparait 4 fois dans le corpus\n",
      "Lincoln Trebitsch apparait 4 fois dans le corpus\n",
      "M. Bethlen apparait 4 fois dans le corpus\n",
      "M. Goemboes apparait 4 fois dans le corpus\n",
      "Albert apparait 4 fois dans le corpus\n",
      "Bonne apparait 4 fois dans le corpus\n",
      "Oléine apparait 4 fois dans le corpus\n",
      "Monsieur apparait 4 fois dans le corpus\n",
      "Sylvain Dupuis apparait 4 fois dans le corpus\n",
      "Faire apparait 4 fois dans le corpus\n",
      "chaus apparait 4 fois dans le corpus\n",
      "jard apparait 4 fois dans le corpus\n",
      "gren apparait 4 fois dans le corpus\n",
      "locat apparait 4 fois dans le corpus\n",
      "Madou apparait 4 fois dans le corpus\n",
      "Desmet apparait 4 fois dans le corpus\n",
      "s. enf apparait 4 fois dans le corpus\n",
      "Cynthia apparait 4 fois dans le corpus\n",
      "M. Steeg apparait 4 fois dans le corpus\n"
     ]
    }
   ],
   "source": [
    "# Trier et imprimer\n",
    "\n",
    "sorted_people = sorted(people.items(), key=lambda kv: kv[1], reverse=True)\n",
    "\n",
    "for person, freq in sorted_people[:50]:\n",
    "    print(f\"{person} apparait {freq} fois dans le corpus\")"
   ]
  },
  {
   "cell_type": "markdown",
   "metadata": {},
   "source": [
    "Exercice: essayez de lister les lieux (LOC) et les organisations (ORG) les plus mentionnées dans le corpus"
   ]
  },
  {
   "cell_type": "code",
   "execution_count": 16,
   "metadata": {},
   "outputs": [
    {
     "name": "stdout",
     "output_type": "stream",
     "text": [
      "Bruxelles apparait 195 fois dans le corpus\n",
      "Paris apparait 68 fois dans le corpus\n",
      "Brux apparait 67 fois dans le corpus\n",
      "Anvers apparait 60 fois dans le corpus\n",
      "Nord apparait 51 fois dans le corpus\n",
      "Belgique apparait 49 fois dans le corpus\n",
      "Etat apparait 34 fois dans le corpus\n",
      "Liège apparait 33 fois dans le corpus\n",
      "Londres apparait 31 fois dans le corpus\n",
      "Agence Rossel apparait 29 fois dans le corpus\n",
      "Bourse apparait 25 fois dans le corpus\n",
      "Congo apparait 24 fois dans le corpus\n",
      "garn apparait 24 fois dans le corpus\n",
      "Midi apparait 23 fois dans le corpus\n",
      "BRUXELLES apparait 22 fois dans le corpus\n",
      "état apparait 19 fois dans le corpus\n",
      "Collecte apparait 19 fois dans le corpus\n",
      "Bossel apparait 18 fois dans le corpus\n",
      "Gand apparait 17 fois dans le corpus\n",
      "Ixelles apparait 16 fois dans le corpus\n",
      "Téléphone apparait 16 fois dans le corpus\n",
      "Louvain apparait 16 fois dans le corpus\n",
      "Uccle apparait 16 fois dans le corpus\n",
      "Berlin apparait 16 fois dans le corpus\n",
      "Allemagne apparait 16 fois dans le corpus\n",
      "jard apparait 16 fois dans le corpus\n",
      "Centre apparait 15 fois dans le corpus\n",
      "Suisse apparait 14 fois dans le corpus\n",
      "Rome apparait 14 fois dans le corpus\n",
      "Genève apparait 14 fois dans le corpus\n",
      "Téléph apparait 13 fois dans le corpus\n",
      "Bruges apparait 13 fois dans le corpus\n",
      "Belge apparait 13 fois dans le corpus\n",
      "Russie apparait 13 fois dans le corpus\n",
      "Bruxelles Immobilier apparait 13 fois dans le corpus\n",
      "Angleterre apparait 12 fois dans le corpus\n",
      "Chili apparait 12 fois dans le corpus\n",
      "France apparait 12 fois dans le corpus\n",
      "rue Royale apparait 11 fois dans le corpus\n",
      "Brabant apparait 11 fois dans le corpus\n",
      "Belges apparait 11 fois dans le corpus\n",
      "Maroc apparait 11 fois dans le corpus\n",
      "Tournai apparait 10 fois dans le corpus\n",
      "Canada apparait 10 fois dans le corpus\n",
      "Hongrie apparait 10 fois dans le corpus\n",
      "Institut apparait 10 fois dans le corpus\n",
      "Nice apparait 10 fois dans le corpus\n",
      "Cond apparait 9 fois dans le corpus\n",
      "avenue Louise apparait 9 fois dans le corpus\n",
      "Madrid apparait 9 fois dans le corpus\n"
     ]
    }
   ],
   "source": [
    "# Compter les entités de type lieu (LOC)\n",
    "locations = defaultdict(int)\n",
    "for ent in doc.ents:\n",
    "    if ent.label_ in [\"LOC\"] and len(ent.text) > 3:\n",
    "        locations[ent.text] += 1\n",
    "\n",
    "# Trier et imprimer\n",
    "sorted_locations = sorted(locations.items(), key=lambda kv: kv[1], reverse=True)\n",
    "\n",
    "for loc, freq in sorted_locations[:50]:\n",
    "    print(f\"{loc} apparait {freq} fois dans le corpus\")"
   ]
  },
  {
   "cell_type": "code",
   "execution_count": 18,
   "metadata": {},
   "outputs": [
    {
     "name": "stdout",
     "output_type": "stream",
     "text": [
      "Conseil apparait 20 fois dans le corpus\n",
      "Téléphone apparait 11 fois dans le corpus\n",
      "Ford apparait 10 fois dans le corpus\n",
      "Parlement apparait 9 fois dans le corpus\n",
      "Chambre apparait 9 fois dans le corpus\n",
      "Banque apparait 9 fois dans le corpus\n",
      "Société apparait 9 fois dans le corpus\n",
      "Agence apparait 8 fois dans le corpus\n",
      "Reich apparait 8 fois dans le corpus\n",
      "Garantie apparait 7 fois dans le corpus\n",
      "Reichstag apparait 7 fois dans le corpus\n",
      "DEMOIS apparait 7 fois dans le corpus\n",
      "Société des Nations apparait 6 fois dans le corpus\n",
      "Torp apparait 5 fois dans le corpus\n",
      "Elect apparait 5 fois dans le corpus\n",
      "Sénat apparait 5 fois dans le corpus\n",
      "AGENCE apparait 5 fois dans le corpus\n",
      "COIFFEUR apparait 5 fois dans le corpus\n",
      "Agence Rosscl apparait 5 fois dans le corpus\n",
      "Couronne apparait 5 fois dans le corpus\n",
      "Agence Rossel apparait 4 fois dans le corpus\n",
      "FORD apparait 4 fois dans le corpus\n",
      "PLOMBS apparait 4 fois dans le corpus\n",
      "ALLEMAGNE apparait 4 fois dans le corpus\n",
      "Académie d’Italie apparait 4 fois dans le corpus\n",
      "Bru- apparait 4 fois dans le corpus\n",
      "MENAGE apparait 4 fois dans le corpus\n",
      "AGENCE OU apparait 4 fois dans le corpus\n",
      "Armée apparait 4 fois dans le corpus\n",
      "bidet apparait 4 fois dans le corpus\n",
      "CREDIT apparait 4 fois dans le corpus\n",
      "Référ apparait 4 fois dans le corpus\n",
      "GARANTIE apparait 3 fois dans le corpus\n",
      "LOUVAIN apparait 3 fois dans le corpus\n",
      "S'adr apparait 3 fois dans le corpus\n",
      "Commission de la Bourse apparait 3 fois dans le corpus\n",
      "Union apparait 3 fois dans le corpus\n",
      "Usines apparait 3 fois dans le corpus\n",
      "Académie Française apparait 3 fois dans le corpus\n",
      "Commission apparait 3 fois dans le corpus\n",
      "Congo Belge apparait 3 fois dans le corpus\n",
      "Total apparait 3 fois dans le corpus\n",
      "SCHAERBEEK apparait 3 fois dans le corpus\n",
      "Salon apparait 3 fois dans le corpus\n",
      "ÔN DEM apparait 3 fois dans le corpus\n",
      "Bas prix apparait 3 fois dans le corpus\n",
      "CEDER apparait 3 fois dans le corpus\n",
      "LIBERT apparait 3 fois dans le corpus\n",
      "CHARLEROI apparait 3 fois dans le corpus\n",
      "Schnerb apparait 3 fois dans le corpus\n"
     ]
    }
   ],
   "source": [
    "# Compter les entités de type organisations (ORG)\n",
    "organisations = defaultdict(int)\n",
    "for ent in doc.ents:\n",
    "    if ent.label_ in [\"ORG\"] and len(ent.text) > 3:\n",
    "        organisations[ent.text] += 1\n",
    "\n",
    "# Trier et imprimer\n",
    "sorted_organisations = sorted(organisations.items(), key=lambda kv: kv[1], reverse=True)\n",
    "\n",
    "for org, freq in sorted_organisations[:50]:\n",
    "    print(f\"{org} apparait {freq} fois dans le corpus\")"
   ]
  }
 ],
 "metadata": {
  "kernelspec": {
   "display_name": "Python 3",
   "language": "python",
   "name": "python3"
  },
  "language_info": {
   "codemirror_mode": {
    "name": "ipython",
    "version": 3
   },
   "file_extension": ".py",
   "mimetype": "text/x-python",
   "name": "python",
   "nbconvert_exporter": "python",
   "pygments_lexer": "ipython3",
   "version": "3.11.9"
  }
 },
 "nbformat": 4,
 "nbformat_minor": 4
}
