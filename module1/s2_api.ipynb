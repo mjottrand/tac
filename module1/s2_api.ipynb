{
 "cells": [
  {
   "cell_type": "markdown",
   "metadata": {},
   "source": [
    "# APIs: requêtes HTTP"
   ]
  },
  {
   "cell_type": "markdown",
   "metadata": {},
   "source": [
    "## Imports"
   ]
  },
  {
   "cell_type": "code",
   "execution_count": 9,
   "metadata": {},
   "outputs": [],
   "source": [
    "import json\n",
    "import requests"
   ]
  },
  {
   "cell_type": "markdown",
   "metadata": {},
   "source": [
    "## Utiliser [Nominatim](https://nominatim.org/) pour connaître les coordonnées géographiques d'une adresse"
   ]
  },
  {
   "cell_type": "code",
   "execution_count": 11,
   "metadata": {},
   "outputs": [
    {
     "name": "stdout",
     "output_type": "stream",
     "text": [
      "ULB (50.8116064 - 4.3805110)\n"
     ]
    }
   ],
   "source": [
    "address = \"Avenue Franklin Roosevelt, Ixelles\"\n",
    "\n",
    "\"\"\"Retrieve coordinates from Open Street Map\"\"\"\n",
    "headers = {'Referer': 'https://nominatim.openstreetmap.org/ui/search.html'}\n",
    "url = \"https://nominatim.openstreetmap.org/search\"\n",
    "data = {'q': address, 'format': 'json'}\n",
    "resp = requests.get(url, data, headers=headers)\n",
    "try:\n",
    "    json_list = json.loads(resp.text)\n",
    "except json.JSONDecodeError: # response is not in JSON as expected, probably the request is being blocked\n",
    "    print(resp.text)\n",
    "for item in json_list:\n",
    "    display_name = item['display_name']\n",
    "    short_name = display_name.split(\", \")[0]\n",
    "    lat = item['lat']\n",
    "    lon = item['lon']\n",
    "    print(f\"{short_name} ({lat} - {lon})\")\n"
   ]
  },
  {
   "cell_type": "markdown",
   "metadata": {},
   "source": [
    "## Utiliser REST Countries pour récupérer des informations sur un pays"
   ]
  },
  {
   "cell_type": "markdown",
   "metadata": {},
   "source": [
    "https://restcountries.com/"
   ]
  },
  {
   "cell_type": "code",
   "execution_count": null,
   "metadata": {},
   "outputs": [
    {
     "name": "stdout",
     "output_type": "stream",
     "text": [
      "Languages: German, French, Dutch\n",
      "Borders: France, Germany, Luxembourg, Netherlands\n"
     ]
    }
   ],
   "source": [
    "country_name = \"Belgium\"\n",
    "\n",
    "base_url = \"https://restcountries.com/v3.1/\"\n",
    "name_url = base_url + \"name/\"\n",
    "code_url = base_url + \"alpha/\"\n",
    "resp = requests.get(name_url + country_name)\n",
    "country = resp.json()[0]\n",
    "try:\n",
    "    languages = country['languages']\n",
    "    print(f\"Languages: {', '.join(languages.values())}\")\n",
    "    border_codes = country['borders']\n",
    "    border_names = []\n",
    "    for code in border_codes:\n",
    "        resp = requests.get(code_url + code)\n",
    "        border_country = resp.json()[0]\n",
    "        border_name = border_country[\"name\"][\"common\"]\n",
    "        border_names.append(border_name)\n",
    "    print(f\"Borders: {', '.join(border_names)}\")\n",
    "except KeyError:\n",
    "    print(\"Unknown country, please use English or native name\")"
   ]
  },
  {
   "cell_type": "markdown",
   "metadata": {},
   "source": [
    "## Pour en savoir plus"
   ]
  },
  {
   "cell_type": "code",
   "execution_count": 31,
   "metadata": {},
   "outputs": [
    {
     "data": {
      "text/html": [
       "<div>\n",
       "<style scoped>\n",
       "    .dataframe tbody tr th:only-of-type {\n",
       "        vertical-align: middle;\n",
       "    }\n",
       "\n",
       "    .dataframe tbody tr th {\n",
       "        vertical-align: top;\n",
       "    }\n",
       "\n",
       "    .dataframe thead th {\n",
       "        text-align: right;\n",
       "    }\n",
       "</style>\n",
       "<table border=\"1\" class=\"dataframe\">\n",
       "  <thead>\n",
       "    <tr style=\"text-align: right;\">\n",
       "      <th></th>\n",
       "      <th>Titre</th>\n",
       "      <th>Date</th>\n",
       "      <th>URL</th>\n",
       "    </tr>\n",
       "  </thead>\n",
       "  <tbody>\n",
       "    <tr>\n",
       "      <th>0</th>\n",
       "      <td>MAYOR BEGINS WORK WITH FEW CALLERS; Tells His ...</td>\n",
       "      <td>1914-01-03T05:00:00Z</td>\n",
       "      <td>https://www.nytimes.com/1914/01/03/archives/ma...</td>\n",
       "    </tr>\n",
       "    <tr>\n",
       "      <th>1</th>\n",
       "      <td>BEAUTY AND LUXURY MARK AUTO SALON; Foreign Car...</td>\n",
       "      <td>1914-01-03T05:00:00Z</td>\n",
       "      <td>https://www.nytimes.com/1914/01/03/archives/be...</td>\n",
       "    </tr>\n",
       "    <tr>\n",
       "      <th>2</th>\n",
       "      <td>HUERTA SENTIMENT GROWS IN CAPITAL; Federal Act...</td>\n",
       "      <td>1914-01-04T05:00:00Z</td>\n",
       "      <td>https://www.nytimes.com/1914/01/04/archives/hu...</td>\n",
       "    </tr>\n",
       "    <tr>\n",
       "      <th>3</th>\n",
       "      <td>AUTO SHOW DRAWS INTERESTED THRONGS; Large Atte...</td>\n",
       "      <td>1914-01-06T05:00:00Z</td>\n",
       "      <td>https://www.nytimes.com/1914/01/06/archives/au...</td>\n",
       "    </tr>\n",
       "    <tr>\n",
       "      <th>4</th>\n",
       "      <td>Would Help to Reduce the Present Cost of Living.</td>\n",
       "      <td>1914-01-06T05:00:00Z</td>\n",
       "      <td>https://www.nytimes.com/1914/01/06/archives/wo...</td>\n",
       "    </tr>\n",
       "    <tr>\n",
       "      <th>5</th>\n",
       "      <td>FINANCIAL MARKETS; Stocks Irregular -- Money E...</td>\n",
       "      <td>1914-01-08T05:00:00Z</td>\n",
       "      <td>https://www.nytimes.com/1914/01/08/archives/fi...</td>\n",
       "    </tr>\n",
       "    <tr>\n",
       "      <th>6</th>\n",
       "      <td>COMPANY OWES $4,500,000.; Many Foreign Banks C...</td>\n",
       "      <td>1914-01-09T05:00:00Z</td>\n",
       "      <td>https://www.nytimes.com/1914/01/09/archives/co...</td>\n",
       "    </tr>\n",
       "    <tr>\n",
       "      <th>7</th>\n",
       "      <td>HONORS KROONLAND MEN.; Belgium Bestows Decorat...</td>\n",
       "      <td>1914-01-09T05:00:00Z</td>\n",
       "      <td>https://www.nytimes.com/1914/01/09/archives/ho...</td>\n",
       "    </tr>\n",
       "    <tr>\n",
       "      <th>8</th>\n",
       "      <td>MISS HARRISON HAS A $10,000 'CELLO; Mrs. Almer...</td>\n",
       "      <td>1914-01-11T05:00:00Z</td>\n",
       "      <td>https://www.nytimes.com/1914/01/11/archives/mi...</td>\n",
       "    </tr>\n",
       "    <tr>\n",
       "      <th>9</th>\n",
       "      <td>MRS. JANE ROBERTS DEAD.; Aged Widow of First P...</td>\n",
       "      <td>1914-01-11T05:00:00Z</td>\n",
       "      <td>https://www.nytimes.com/1914/01/11/archives/mr...</td>\n",
       "    </tr>\n",
       "  </tbody>\n",
       "</table>\n",
       "</div>"
      ],
      "text/plain": [
       "                                               Titre                  Date  \\\n",
       "0  MAYOR BEGINS WORK WITH FEW CALLERS; Tells His ...  1914-01-03T05:00:00Z   \n",
       "1  BEAUTY AND LUXURY MARK AUTO SALON; Foreign Car...  1914-01-03T05:00:00Z   \n",
       "2  HUERTA SENTIMENT GROWS IN CAPITAL; Federal Act...  1914-01-04T05:00:00Z   \n",
       "3  AUTO SHOW DRAWS INTERESTED THRONGS; Large Atte...  1914-01-06T05:00:00Z   \n",
       "4   Would Help to Reduce the Present Cost of Living.  1914-01-06T05:00:00Z   \n",
       "5  FINANCIAL MARKETS; Stocks Irregular -- Money E...  1914-01-08T05:00:00Z   \n",
       "6  COMPANY OWES $4,500,000.; Many Foreign Banks C...  1914-01-09T05:00:00Z   \n",
       "7  HONORS KROONLAND MEN.; Belgium Bestows Decorat...  1914-01-09T05:00:00Z   \n",
       "8  MISS HARRISON HAS A $10,000 'CELLO; Mrs. Almer...  1914-01-11T05:00:00Z   \n",
       "9  MRS. JANE ROBERTS DEAD.; Aged Widow of First P...  1914-01-11T05:00:00Z   \n",
       "\n",
       "                                                 URL  \n",
       "0  https://www.nytimes.com/1914/01/03/archives/ma...  \n",
       "1  https://www.nytimes.com/1914/01/03/archives/be...  \n",
       "2  https://www.nytimes.com/1914/01/04/archives/hu...  \n",
       "3  https://www.nytimes.com/1914/01/06/archives/au...  \n",
       "4  https://www.nytimes.com/1914/01/06/archives/wo...  \n",
       "5  https://www.nytimes.com/1914/01/08/archives/fi...  \n",
       "6  https://www.nytimes.com/1914/01/09/archives/co...  \n",
       "7  https://www.nytimes.com/1914/01/09/archives/ho...  \n",
       "8  https://www.nytimes.com/1914/01/11/archives/mi...  \n",
       "9  https://www.nytimes.com/1914/01/11/archives/mr...  "
      ]
     },
     "metadata": {},
     "output_type": "display_data"
    },
    {
     "name": "stdout",
     "output_type": "stream",
     "text": [
      "Nombre d'articles trouvés : 10\n"
     ]
    }
   ],
   "source": [
    "import requests\n",
    "import pandas as pd\n",
    "\n",
    "\n",
    "API_KEY = \"8CIDfZPH8Mqcnz9lZZSjYITONKhwDQxV\"  \n",
    "QUERY = \"Belgium\"           \n",
    "BEGIN_DATE = \"19140101\"     \n",
    "END_DATE = \"19181231\"\n",
    "\n",
    "URL = \"https://api.nytimes.com/svc/search/v2/articlesearch.json\"\n",
    "\n",
    "params = {\n",
    "    \"q\": QUERY,\n",
    "    \"begin_date\": BEGIN_DATE,\n",
    "    \"end_date\": END_DATE,\n",
    "    \"sort\": \"oldest\",  \n",
    "    \"api-key\": API_KEY\n",
    "}\n",
    "\n",
    "response = requests.get(URL, params=params)\n",
    "\n",
    "try:\n",
    "    # Vérifier si la requête a réussi\n",
    "    response.raise_for_status()\n",
    "    data = response.json()\n",
    "    articles = data['response']['docs']\n",
    "\n",
    "    # Extraire les informations utiles\n",
    "    results = []\n",
    "    for article in articles:\n",
    "        try:\n",
    "            title = article.get(\"headline\", {}).get(\"main\")\n",
    "            date = article.get(\"pub_date\")\n",
    "            url = article.get(\"web_url\")\n",
    "            results.append({\n",
    "                \"Titre\": title,\n",
    "                \"Date\": date,\n",
    "                \"URL\": url\n",
    "            })\n",
    "        except KeyError:\n",
    "            # Si une clé est manquante pour un article, on ignore cet article\n",
    "            continue\n",
    "\n",
    "    # Créer un tableau Pandas si on a des résultats\n",
    "    if results:\n",
    "        df = pd.DataFrame(results)\n",
    "        display(df)\n",
    "        print(f\"Nombre d'articles trouvés : {len(df)}\")\n",
    "    else:\n",
    "        print(\"Aucun article trouvé pour cette recherche.\")\n",
    "\n",
    "except requests.exceptions.HTTPError as http_err:\n",
    "    print(f\"Erreur HTTP : {http_err}\")\n",
    "except requests.exceptions.RequestException as req_err:\n",
    "    print(f\"Erreur lors de la requête : {req_err}\")\n",
    "except KeyError as key_err:\n",
    "    print(f\"Erreur dans le traitement des données : {key_err}\")\n",
    "except Exception as e:\n",
    "    print(f\"Une erreur inattendue est survenue : {e}\")"
   ]
  },
  {
   "cell_type": "markdown",
   "metadata": {},
   "source": [
    "- Les API Rest: https://towardsdatascience.com/introduction-to-rest-apis-90b5d9676004\n",
    "- La librairie [`requests`](https://requests.readthedocs.io/en/latest/)\n",
    "- Développer une API en Python : https://openclassrooms.com/en/courses/4525361-realisez-un-dashboard-avec-tableau/5774811-creez-une-api-avec-flask"
   ]
  }
 ],
 "metadata": {
  "kernelspec": {
   "display_name": ".venv",
   "language": "python",
   "name": "python3"
  },
  "language_info": {
   "codemirror_mode": {
    "name": "ipython",
    "version": 3
   },
   "file_extension": ".py",
   "mimetype": "text/x-python",
   "name": "python",
   "nbconvert_exporter": "python",
   "pygments_lexer": "ipython3",
   "version": "3.11.9"
  }
 },
 "nbformat": 4,
 "nbformat_minor": 4
}
