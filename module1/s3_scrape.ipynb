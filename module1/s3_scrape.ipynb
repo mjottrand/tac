{
 "cells": [
  {
   "cell_type": "markdown",
   "metadata": {},
   "source": [
    "# Scraping: récupération de la page d'accueil du journal Le Soir\n",
    "\n",
    "Dans ce notebook, nous créons un robot qui va ouvrir la page d'accueil du site du journal [Le Soir](https://www.lesoir.be/) et récupérer le titre de tous les articles du jour et les stocker dans un fichier csv."
   ]
  },
  {
   "cell_type": "markdown",
   "metadata": {},
   "source": [
    "## Imports"
   ]
  },
  {
   "cell_type": "code",
   "execution_count": 3,
   "metadata": {},
   "outputs": [],
   "source": [
    "import re\n",
    "import time\n",
    "import requests\n",
    "from bs4 import BeautifulSoup\n",
    "import pandas as pd"
   ]
  },
  {
   "cell_type": "markdown",
   "metadata": {},
   "source": [
    "## Récupération de tous les articles de la page d'accueil\n",
    "\n"
   ]
  },
  {
   "cell_type": "code",
   "execution_count": 9,
   "metadata": {},
   "outputs": [
    {
     "name": "stderr",
     "output_type": "stream",
     "text": [
      "c:\\Users\\Admin\\Tac_Test\\tac\\.venv\\Lib\\site-packages\\urllib3\\connectionpool.py:1097: InsecureRequestWarning: Unverified HTTPS request is being made to host 'max.de.wilde.web.ulb.be'. Adding certificate verification is strongly advised. See: https://urllib3.readthedocs.io/en/latest/advanced-usage.html#tls-warnings\n",
      "  warnings.warn(\n"
     ]
    }
   ],
   "source": [
    "headers = {'User-Agent': 'Mozilla/5.0 (Macintosh; Intel Mac OS X 10_10_1) AppleWebKit/537.36 (KHTML, like Gecko) Chrome/39.0.2171.95 Safari/537.36'}\n",
    "\n",
    "articles = []\n",
    "\n",
    "root_url = f\"https://max.de.wilde.web.ulb.be/camille/\"\n",
    "response = requests.get(root_url, headers=headers, verify= False)\n",
    "soup = BeautifulSoup(response.text, 'html.parser')\n",
    "for link in soup.find_all(\"a\", href=True):\n",
    "    title = link.text.strip()\n",
    "    url = root_url + link.get('href')\n",
    "    articles.append([url, title])"
   ]
  },
  {
   "cell_type": "code",
   "execution_count": 10,
   "metadata": {},
   "outputs": [
    {
     "data": {
      "text/plain": [
       "51"
      ]
     },
     "execution_count": 10,
     "metadata": {},
     "output_type": "execute_result"
    }
   ],
   "source": [
    "# Affichage du nombre d'articles récupérés\n",
    "len(articles)"
   ]
  },
  {
   "cell_type": "code",
   "execution_count": 11,
   "metadata": {},
   "outputs": [
    {
     "data": {
      "text/plain": [
       "[['https://max.de.wilde.web.ulb.be/camille/KB_JB230_1892-08-07_01-0003.pdf',\n",
       "  'KB_JB230_1892-08-07_01-0003.pdf'],\n",
       " ['https://max.de.wilde.web.ulb.be/camille/KB_JB427_1920-01-10_01-00004.pdf',\n",
       "  'KB_JB427_1920-01-10_01-00004.pdf'],\n",
       " ['https://max.de.wilde.web.ulb.be/camille/KB_JB555_1836-02-08_01-00002.pdf',\n",
       "  'KB_JB555_1836-02-08_01-00002.pdf'],\n",
       " ['https://max.de.wilde.web.ulb.be/camille/KB_JB638_1860-05-21_01-00002.pdf',\n",
       "  'KB_JB638_1860-05-21_01-00002.pdf'],\n",
       " ['https://max.de.wilde.web.ulb.be/camille/KB_JB773_1918-11-30_01-00002.pdf',\n",
       "  'KB_JB773_1918-11-30_01-00002.pdf'],\n",
       " ['https://max.de.wilde.web.ulb.be/camille/KB_JB838_1887-12-28_01-00003.pdf',\n",
       "  'KB_JB838_1887-12-28_01-00003.pdf'],\n",
       " ['https://max.de.wilde.web.ulb.be/camille/KB_JB230_1903-10-16_01-0002.pdf',\n",
       "  'KB_JB230_1903-10-16_01-0002.pdf'],\n",
       " ['https://max.de.wilde.web.ulb.be/camille/KB_JB427_1933-01-04_01-00003.pdf',\n",
       "  'KB_JB427_1933-01-04_01-00003.pdf'],\n",
       " ['https://max.de.wilde.web.ulb.be/camille/KB_JB555_1899-01-19_01-00003.pdf',\n",
       "  'KB_JB555_1899-01-19_01-00003.pdf'],\n",
       " ['https://max.de.wilde.web.ulb.be/camille/KB_JB638_1902-12-20_01-00002.pdf',\n",
       "  'KB_JB638_1902-12-20_01-00002.pdf']]"
      ]
     },
     "execution_count": 11,
     "metadata": {},
     "output_type": "execute_result"
    }
   ],
   "source": [
    "# Affichage des 10 premières entrées\n",
    "articles[:10]"
   ]
  },
  {
   "cell_type": "markdown",
   "metadata": {},
   "source": [
    "## Création d'un dataframe avec les liens et les titres des articles\n"
   ]
  },
  {
   "cell_type": "code",
   "execution_count": null,
   "metadata": {},
   "outputs": [],
   "source": [
    "df = pd.DataFrame(articles, columns=['link', 'title'])\n",
    "df"
   ]
  },
  {
   "cell_type": "code",
   "execution_count": null,
   "metadata": {},
   "outputs": [],
   "source": [
    "# Sauvegarde du dataframe dans un fichier csv\n",
    "df.to_csv(f\"../data/rtbf_{time.strftime('%Y%m%d')}.csv\", index=False)"
   ]
  },
  {
   "cell_type": "markdown",
   "metadata": {},
   "source": [
    "## Téléchargement d'un article et affichage du texte"
   ]
  },
  {
   "cell_type": "code",
   "execution_count": null,
   "metadata": {},
   "outputs": [],
   "source": [
    "# Récupération du premier lien du dataframe\n",
    "article_url = df.iloc[0][0]\n",
    "\n",
    "# Ouverture de la page\n",
    "response = requests.get(article_url, headers=headers)\n",
    "soup = BeautifulSoup(response.content, 'html.parser')\n",
    "# Parsing du contenu\n",
    "title = soup.find(\"h1\").get_text(separator=' ')\n",
    "\n",
    "paragraphs = []\n",
    "for paragraph in soup.find_all(\"p\", attrs={\"class\": None}):\n",
    "    paragraphs.append(paragraph.get_text(separator=' ').strip())\n",
    "\n",
    "content = \"\\n\".join(paragraphs)\n",
    "print(title)\n",
    "print(\"==================================\")\n",
    "print(content)"
   ]
  },
  {
   "cell_type": "markdown",
   "metadata": {},
   "source": [
    "### Nettoyage du texte à l'aide d'expressions régulières"
   ]
  },
  {
   "cell_type": "code",
   "execution_count": null,
   "metadata": {},
   "outputs": [],
   "source": [
    "# Suppression de tout ce qui se trouve entre parenthèses\n",
    "clean_content = re.sub(\"\\([^\\)]+\\)\", \" \", content)\n",
    "# Suppression des espaces multiples\n",
    "clean_content = re.sub(\"\\s+\", \" \", clean_content)\n",
    "\n",
    "print(content)\n",
    "print(\"==================================\")\n",
    "print(clean_content)\n"
   ]
  },
  {
   "cell_type": "markdown",
   "metadata": {},
   "source": [
    "### Création d'un fichier avec le contenu de l'article\n"
   ]
  },
  {
   "cell_type": "code",
   "execution_count": null,
   "metadata": {},
   "outputs": [],
   "source": [
    "with open(\"../data/rtbf_example.txt\", \"w\") as writer:\n",
    "    writer.write(f\"{title}\\n\\n{clean_content}\")"
   ]
  },
  {
   "cell_type": "markdown",
   "metadata": {},
   "source": [
    "## Pour en savoir plus"
   ]
  },
  {
   "cell_type": "markdown",
   "metadata": {},
   "source": [
    "- Le web scraping avec Python: https://realpython.com/beautiful-soup-web-scraper-python/\n",
    "- Tutoriel sur les expressions régulières: https://www.w3schools.com/python/python_regex.asp"
   ]
  }
 ],
 "metadata": {
  "kernelspec": {
   "display_name": ".venv",
   "language": "python",
   "name": "python3"
  },
  "language_info": {
   "codemirror_mode": {
    "name": "ipython",
    "version": 3
   },
   "file_extension": ".py",
   "mimetype": "text/x-python",
   "name": "python",
   "nbconvert_exporter": "python",
   "pygments_lexer": "ipython3",
   "version": "3.11.9"
  }
 },
 "nbformat": 4,
 "nbformat_minor": 4
}
